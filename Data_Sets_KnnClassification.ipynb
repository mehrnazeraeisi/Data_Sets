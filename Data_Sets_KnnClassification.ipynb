{
  "nbformat": 4,
  "nbformat_minor": 0,
  "metadata": {
    "colab": {
      "provenance": [],
      "authorship_tag": "ABX9TyOAf1in6zupQOWPGBBEfkgr",
      "include_colab_link": true
    },
    "kernelspec": {
      "name": "python3",
      "display_name": "Python 3"
    },
    "language_info": {
      "name": "python"
    }
  },
  "cells": [
    {
      "cell_type": "markdown",
      "metadata": {
        "id": "view-in-github",
        "colab_type": "text"
      },
      "source": [
        "<a href=\"https://colab.research.google.com/github/mehrnazeraeisi/Data_Sets/blob/main/Data_Sets_KnnClassification.ipynb\" target=\"_parent\"><img src=\"https://colab.research.google.com/assets/colab-badge.svg\" alt=\"Open In Colab\"/></a>"
      ]
    },
    {
      "cell_type": "code",
      "source": [
        "!pip install openml\n"
      ],
      "metadata": {
        "colab": {
          "base_uri": "https://localhost:8080/"
        },
        "id": "Ziyx6GzNB0Vc",
        "outputId": "2b8cc301-98d8-499f-e205-a96231985928"
      },
      "execution_count": 1,
      "outputs": [
        {
          "output_type": "stream",
          "name": "stdout",
          "text": [
            "Collecting openml\n",
            "  Downloading openml-0.15.1-py3-none-any.whl.metadata (10 kB)\n",
            "Collecting liac-arff>=2.4.0 (from openml)\n",
            "  Downloading liac-arff-2.5.0.tar.gz (13 kB)\n",
            "  Preparing metadata (setup.py) ... \u001b[?25l\u001b[?25hdone\n",
            "Collecting xmltodict (from openml)\n",
            "  Downloading xmltodict-0.14.2-py2.py3-none-any.whl.metadata (8.0 kB)\n",
            "Requirement already satisfied: requests in /usr/local/lib/python3.11/dist-packages (from openml) (2.32.3)\n",
            "Requirement already satisfied: scikit-learn>=0.18 in /usr/local/lib/python3.11/dist-packages (from openml) (1.6.1)\n",
            "Requirement already satisfied: python-dateutil in /usr/local/lib/python3.11/dist-packages (from openml) (2.9.0.post0)\n",
            "Requirement already satisfied: pandas>=1.0.0 in /usr/local/lib/python3.11/dist-packages (from openml) (2.2.2)\n",
            "Requirement already satisfied: scipy>=0.13.3 in /usr/local/lib/python3.11/dist-packages (from openml) (1.15.3)\n",
            "Requirement already satisfied: numpy>=1.6.2 in /usr/local/lib/python3.11/dist-packages (from openml) (2.0.2)\n",
            "Collecting minio (from openml)\n",
            "  Downloading minio-7.2.15-py3-none-any.whl.metadata (6.7 kB)\n",
            "Requirement already satisfied: pyarrow in /usr/local/lib/python3.11/dist-packages (from openml) (18.1.0)\n",
            "Requirement already satisfied: tqdm in /usr/local/lib/python3.11/dist-packages (from openml) (4.67.1)\n",
            "Requirement already satisfied: packaging in /usr/local/lib/python3.11/dist-packages (from openml) (24.2)\n",
            "Requirement already satisfied: pytz>=2020.1 in /usr/local/lib/python3.11/dist-packages (from pandas>=1.0.0->openml) (2025.2)\n",
            "Requirement already satisfied: tzdata>=2022.7 in /usr/local/lib/python3.11/dist-packages (from pandas>=1.0.0->openml) (2025.2)\n",
            "Requirement already satisfied: six>=1.5 in /usr/local/lib/python3.11/dist-packages (from python-dateutil->openml) (1.17.0)\n",
            "Requirement already satisfied: joblib>=1.2.0 in /usr/local/lib/python3.11/dist-packages (from scikit-learn>=0.18->openml) (1.5.0)\n",
            "Requirement already satisfied: threadpoolctl>=3.1.0 in /usr/local/lib/python3.11/dist-packages (from scikit-learn>=0.18->openml) (3.6.0)\n",
            "Requirement already satisfied: certifi in /usr/local/lib/python3.11/dist-packages (from minio->openml) (2025.4.26)\n",
            "Requirement already satisfied: urllib3 in /usr/local/lib/python3.11/dist-packages (from minio->openml) (2.4.0)\n",
            "Requirement already satisfied: argon2-cffi in /usr/local/lib/python3.11/dist-packages (from minio->openml) (23.1.0)\n",
            "Collecting pycryptodome (from minio->openml)\n",
            "  Downloading pycryptodome-3.23.0-cp37-abi3-manylinux_2_17_x86_64.manylinux2014_x86_64.whl.metadata (3.4 kB)\n",
            "Requirement already satisfied: typing-extensions in /usr/local/lib/python3.11/dist-packages (from minio->openml) (4.13.2)\n",
            "Requirement already satisfied: charset-normalizer<4,>=2 in /usr/local/lib/python3.11/dist-packages (from requests->openml) (3.4.2)\n",
            "Requirement already satisfied: idna<4,>=2.5 in /usr/local/lib/python3.11/dist-packages (from requests->openml) (3.10)\n",
            "Requirement already satisfied: argon2-cffi-bindings in /usr/local/lib/python3.11/dist-packages (from argon2-cffi->minio->openml) (21.2.0)\n",
            "Requirement already satisfied: cffi>=1.0.1 in /usr/local/lib/python3.11/dist-packages (from argon2-cffi-bindings->argon2-cffi->minio->openml) (1.17.1)\n",
            "Requirement already satisfied: pycparser in /usr/local/lib/python3.11/dist-packages (from cffi>=1.0.1->argon2-cffi-bindings->argon2-cffi->minio->openml) (2.22)\n",
            "Downloading openml-0.15.1-py3-none-any.whl (160 kB)\n",
            "\u001b[2K   \u001b[90m━━━━━━━━━━━━━━━━━━━━━━━━━━━━━━━━━━━━━━━━\u001b[0m \u001b[32m160.4/160.4 kB\u001b[0m \u001b[31m5.0 MB/s\u001b[0m eta \u001b[36m0:00:00\u001b[0m\n",
            "\u001b[?25hDownloading minio-7.2.15-py3-none-any.whl (95 kB)\n",
            "\u001b[2K   \u001b[90m━━━━━━━━━━━━━━━━━━━━━━━━━━━━━━━━━━━━━━━━\u001b[0m \u001b[32m95.1/95.1 kB\u001b[0m \u001b[31m6.5 MB/s\u001b[0m eta \u001b[36m0:00:00\u001b[0m\n",
            "\u001b[?25hDownloading xmltodict-0.14.2-py2.py3-none-any.whl (10.0 kB)\n",
            "Downloading pycryptodome-3.23.0-cp37-abi3-manylinux_2_17_x86_64.manylinux2014_x86_64.whl (2.3 MB)\n",
            "\u001b[2K   \u001b[90m━━━━━━━━━━━━━━━━━━━━━━━━━━━━━━━━━━━━━━━━\u001b[0m \u001b[32m2.3/2.3 MB\u001b[0m \u001b[31m33.5 MB/s\u001b[0m eta \u001b[36m0:00:00\u001b[0m\n",
            "\u001b[?25hBuilding wheels for collected packages: liac-arff\n",
            "  Building wheel for liac-arff (setup.py) ... \u001b[?25l\u001b[?25hdone\n",
            "  Created wheel for liac-arff: filename=liac_arff-2.5.0-py3-none-any.whl size=11717 sha256=991475a895c35e4dcb6e0c0ea3467c98099e409a79e7267afc15f71ba143e73d\n",
            "  Stored in directory: /root/.cache/pip/wheels/00/23/31/5e562fce1f95aabe57f2a7320d07433ba1cd152bcde2f6a002\n",
            "Successfully built liac-arff\n",
            "Installing collected packages: xmltodict, pycryptodome, liac-arff, minio, openml\n",
            "Successfully installed liac-arff-2.5.0 minio-7.2.15 openml-0.15.1 pycryptodome-3.23.0 xmltodict-0.14.2\n"
          ]
        }
      ]
    },
    {
      "cell_type": "code",
      "source": [
        "import openml\n",
        "import pandas as pd\n",
        "\n",
        "# تنظیم نمایش تا 100 ردیف\n",
        "pd.set_option('display.max_rows', 100)\n",
        "\n",
        "# گرفتن دیتاست‌ها\n",
        "datasets = openml.datasets.list_datasets(output_format='dataframe')\n",
        "\n",
        "# فیلتر کردن دیتاست‌ها با شرایط:\n",
        "filtered = datasets[\n",
        "    (datasets['NumberOfClasses'] >= 2) &                       # حداقل 2 کلاس\n",
        "    (datasets['NumberOfSymbolicFeatures'] == 0) &              # فقط ویژگی‌های عددی\n",
        "    (datasets['NumberOfInstances'] > 50) &                     # حداقل تعداد نمونه\n",
        "    (datasets['NumberOfFeatures'] > 1) &                       # حداقل 2 ویژگی\n",
        "    (datasets['NumberOfInstances'] < 10000)                    # حداکثر 9999 نمونه\n",
        "]\n",
        "\n",
        "# نمایش نتایج\n",
        "result = filtered[['name', 'did']]\n",
        "print(result.head(100))\n",
        "print(f\"\\nتعداد دیتاست‌های طبقه‌بندی عددی < 10000: {len(result)}\")\n"
      ],
      "metadata": {
        "colab": {
          "base_uri": "https://localhost:8080/"
        },
        "id": "O9Tgre0Ei4BZ",
        "outputId": "47e68aa9-b97b-430a-9f1f-0b8f47d1d734"
      },
      "execution_count": 5,
      "outputs": [
        {
          "output_type": "stream",
          "name": "stdout",
          "text": [
            "                                 name    did\n",
            "41533                       Domainome  41533\n",
            "42133                    cacao_flavor  42133\n",
            "42166                    cacao_flavor  42166\n",
            "42177              echocardiogram-uci  42177\n",
            "42178            telco-customer-churn  42178\n",
            "42665              ricci_vs_destefano  42665\n",
            "42763                     kits-subset  42763\n",
            "42819                      OxfordPets  42819\n",
            "42882                        dgf_test  42882\n",
            "42883                        dgf_test  42883\n",
            "43097                 students_scores  43097\n",
            "43098                 students_scores  43098\n",
            "43325                           Birds  43325\n",
            "43327                           Birds  43327\n",
            "43595                Loan-Predication  43595\n",
            "43607  WMO-Hurricane-Survival-Dataset  43607\n",
            "43723  Toronto-Apartment-Rental-Price  43723\n",
            "43786              Zombies-Apocalypse  43786\n",
            "43893          ibm-employee-attrition  43893\n",
            "43894          ibm-employee-attrition  43894\n",
            "43973                         phoneme  43973\n",
            "44151                            Iris  44151\n",
            "44227       South_Asian_Churn_dataset  44227\n",
            "44237            Meta_Album_BCT_Micro  44237\n",
            "44238            Meta_Album_PLK_Micro  44238\n",
            "44239            Meta_Album_FLW_Micro  44239\n",
            "44240            Meta_Album_SPT_Micro  44240\n",
            "44241            Meta_Album_BRD_Micro  44241\n",
            "44242        Meta_Album_PLT_VIL_Micro  44242\n",
            "44244            Meta_Album_TEX_Micro  44244\n",
            "44245            Meta_Album_CRS_Micro  44245\n",
            "44246         Meta_Album_RESISC_Micro  44246\n",
            "44247         Meta_Album_ACT_40_Micro  44247\n",
            "44248          Meta_Album_INS_2_Micro  44248\n",
            "44249        Meta_Album_PLT_NET_Micro  44249\n",
            "44250        Meta_Album_TEX_DTD_Micro  44250\n",
            "44251            Meta_Album_APL_Micro  44251\n",
            "44271        Meta_Album_ACT_410_Micro  44271\n",
            "44272            Meta_Album_FNG_Micro  44272\n",
            "44273        Meta_Album_PLT_DOC_Micro  44273\n",
            "44274       Meta_Album_TEX_ALOT_Micro  44274\n",
            "44275            Meta_Album_AWA_Micro  44275\n",
            "44276            Meta_Album_INS_Micro  44276\n",
            "44277            Meta_Album_RSD_Micro  44277\n",
            "44278            Meta_Album_PRT_Micro  44278\n",
            "44279            Meta_Album_BTS_Micro  44279\n",
            "44281             Meta_Album_BCT_Mini  44281\n",
            "44282             Meta_Album_PLK_Mini  44282\n",
            "44283             Meta_Album_FLW_Mini  44283\n",
            "44284             Meta_Album_SPT_Mini  44284\n",
            "44286         Meta_Album_PLT_VIL_Mini  44286\n",
            "44288             Meta_Album_TEX_Mini  44288\n",
            "44289             Meta_Album_CRS_Mini  44289\n",
            "44290          Meta_Album_RESISC_Mini  44290\n",
            "44291          Meta_Album_ACT_40_Mini  44291\n",
            "44292           Meta_Album_INS_2_Mini  44292\n",
            "44293         Meta_Album_PLT_NET_Mini  44293\n",
            "44294         Meta_Album_TEX_DTD_Mini  44294\n",
            "44295             Meta_Album_APL_Mini  44295\n",
            "44297             Meta_Album_PNU_Mini  44297\n",
            "44298             Meta_Album_DOG_Mini  44298\n",
            "44299          Meta_Album_MED_LF_Mini  44299\n",
            "44300           Meta_Album_RSICB_Mini  44300\n",
            "44301         Meta_Album_ACT_410_Mini  44301\n",
            "44302             Meta_Album_FNG_Mini  44302\n",
            "44303         Meta_Album_PLT_DOC_Mini  44303\n",
            "44305             Meta_Album_AWA_Mini  44305\n",
            "44306             Meta_Album_INS_Mini  44306\n",
            "44307             Meta_Album_RSD_Mini  44307\n",
            "44308             Meta_Album_PRT_Mini  44308\n",
            "44309             Meta_Album_BTS_Mini  44309\n",
            "44312            Meta_Album_PNU_Micro  44312\n",
            "44313            Meta_Album_DOG_Micro  44313\n",
            "44314         Meta_Album_MED_LF_Micro  44314\n",
            "44315          Meta_Album_RSICB_Micro  44315\n",
            "44316         Meta_Album_BCT_Extended  44316\n",
            "44318         Meta_Album_FLW_Extended  44318\n",
            "44322         Meta_Album_TEX_Extended  44322\n",
            "44325      Meta_Album_ACT_40_Extended  44325\n",
            "44328     Meta_Album_TEX_DTD_Extended  44328\n",
            "44329         Meta_Album_APL_Extended  44329\n",
            "44330         Meta_Album_PNU_Extended  44330\n",
            "44332      Meta_Album_MED_LF_Extended  44332\n",
            "44334     Meta_Album_ACT_410_Extended  44334\n",
            "44336     Meta_Album_PLT_DOC_Extended  44336\n",
            "45083                        9_Tumors  45083\n",
            "45084                       11_Tumors  45084\n",
            "45085                          Breast  45085\n",
            "45086                             CNS  45086\n",
            "45087                           Colon  45087\n",
            "45088                           DLBCL  45088\n",
            "45089                             GLI  45089\n",
            "45090                        Leukemia  45090\n",
            "45091                      Leukemia-3  45091\n",
            "45092                        Leukemia  45092\n",
            "45093                            Lung  45093\n",
            "45094                      Lymphoma-3  45094\n",
            "45095                      Lymphoma-9  45095\n",
            "45096                     Lymphoma-11  45096\n",
            "45097                             MLL  45097\n",
            "\n",
            "تعداد دیتاست‌های طبقه‌بندی عددی < 10000: 229\n"
          ]
        }
      ]
    },
    {
      "cell_type": "code",
      "source": [],
      "metadata": {
        "id": "xwoqxjPenuwA"
      },
      "execution_count": null,
      "outputs": []
    },
    {
      "cell_type": "code",
      "source": [
        "import openml\n",
        "import pandas as pd\n",
        "\n",
        "# بارگذاری دیتاست Lung\n",
        "dataset = openml.datasets.get_dataset(45093)\n",
        "data, y_data, _, _ = dataset.get_data(target=dataset.default_target_attribute)\n",
        "\n",
        "# افزودن ستون هدف به دیتافریم\n",
        "data['rating'] = y_data\n",
        "\n",
        "# نمایش اطلاعات اولیه\n",
        "print(data.shape)\n",
        "print(data.head())\n"
      ],
      "metadata": {
        "outputId": "3f52da3d-7073-4364-c244-bba023e1eaf8",
        "colab": {
          "base_uri": "https://localhost:8080/"
        },
        "id": "f-16DNWCnvEt"
      },
      "execution_count": 20,
      "outputs": [
        {
          "output_type": "stream",
          "name": "stderr",
          "text": [
            "WARNING:urllib3.connectionpool:Retrying (Retry(total=4, connect=None, read=None, redirect=None, status=None)) after connection broken by 'NameResolutionError(\"<urllib3.connection.HTTPConnection object at 0x7abf384db190>: Failed to resolve 'data.openml.org' ([Errno -2] Name or service not known)\")': /datasets/0004/45093/dataset_45093.pq\n"
          ]
        },
        {
          "output_type": "stream",
          "name": "stdout",
          "text": [
            "(203, 12601)\n",
            "   AFFX-MurIL2_at  AFFX-MurIL10_at  AFFX-MurIL4_at  AFFX-MurFAS_at  \\\n",
            "0         -18.600            10.54           0.010          19.440   \n",
            "1           9.120             9.12          10.180          29.290   \n",
            "2          -2.175            -2.21          -0.060           6.320   \n",
            "3          -1.540            21.75           5.835          23.815   \n",
            "4          -9.070             3.08          -1.980          17.260   \n",
            "\n",
            "   AFFX-BioB-5_at  AFFX-BioB-M_at  AFFX-BioB-3_at  AFFX-BioC-5_at  \\\n",
            "0         -16.980          -27.50          -1.600           38.88   \n",
            "1          -4.680           -1.50          -3.620           20.80   \n",
            "2          -1.775          -16.53          -3.610           16.41   \n",
            "3         -24.785          -12.89          -4.485           19.50   \n",
            "4         -10.090          -15.15         -18.190           13.21   \n",
            "\n",
            "   AFFX-BioC-3_at  AFFX-BioDn-5_at  ...  101_at  102_at  103_at  104_at  \\\n",
            "0         -29.120          -42.870  ...   8.110  33.210  30.780   47.80   \n",
            "1         -13.180          -35.470  ...  15.490  27.170  26.110   45.22   \n",
            "2         -17.970          -57.020  ...  14.610  10.875  10.615   35.14   \n",
            "3         -21.445          -47.205  ...   9.615  27.355  30.860   48.71   \n",
            "4         -13.130          -39.470  ... -14.140  23.340   6.120   33.46   \n",
            "\n",
            "   105_at  106_at  107_at  108_g_at   109_at  rating  \n",
            "0   1.630  17.020  13.780   -103.49   76.980       1  \n",
            "1  10.180  69.640 -24.850    -34.41  105.730       1  \n",
            "2   1.745  29.710  10.465    -42.63   73.735       1  \n",
            "3  10.355  40.845  54.615    -71.38   65.435       1  \n",
            "4 -10.090  40.550  16.250    -48.59   39.540       1  \n",
            "\n",
            "[5 rows x 12601 columns]\n"
          ]
        }
      ]
    },
    {
      "cell_type": "code",
      "source": [
        "import openml\n",
        "import pandas as pd\n",
        "\n",
        "# بارگذاری دیتاست Leukemia\n",
        "dataset = openml.datasets.get_dataset(45090)\n",
        "data, y_data, _, _ = dataset.get_data(target=dataset.default_target_attribute)\n",
        "\n",
        "# افزودن ستون هدف به دیتافریم\n",
        "data['rating'] = y_data\n",
        "\n",
        "# نمایش اطلاعات اولیه\n",
        "print(data.shape)\n",
        "print(data.head())\n"
      ],
      "metadata": {
        "colab": {
          "base_uri": "https://localhost:8080/"
        },
        "id": "ffJTVjdznRX_",
        "outputId": "4d1d854f-6da2-494d-c075-f9f047c71855"
      },
      "execution_count": 17,
      "outputs": [
        {
          "output_type": "stream",
          "name": "stdout",
          "text": [
            "(72, 7130)\n",
            "   AFFX-BioB-5_at  AFFX-BioB-M_at  AFFX-BioB-3_at  AFFX-BioC-5_at  \\\n",
            "0          -342.0          -200.0            41.0           328.0   \n",
            "1           -87.0          -248.0           262.0           295.0   \n",
            "2           -62.0           -23.0            -7.0           142.0   \n",
            "3            22.0          -153.0            17.0           276.0   \n",
            "4            86.0           -36.0          -141.0           252.0   \n",
            "\n",
            "   AFFX-BioC-3_at  AFFX-BioDn-5_at  AFFX-BioDn-3_at  AFFX-CreX-5_at  \\\n",
            "0          -224.0           -427.0           -656.0          -292.0   \n",
            "1          -226.0           -493.0            367.0          -452.0   \n",
            "2          -233.0           -284.0           -167.0           -97.0   \n",
            "3          -211.0           -250.0             55.0          -141.0   \n",
            "4          -201.0           -384.0           -420.0          -197.0   \n",
            "\n",
            "   AFFX-CreX-3_at  AFFX-BioB-5_st  ...  U58516_at  U73738_at  X06956_at  \\\n",
            "0           137.0          -144.0  ...     1023.0       67.0      214.0   \n",
            "1           194.0           162.0  ...      529.0     -295.0      352.0   \n",
            "2           -12.0           -70.0  ...      383.0       46.0      104.0   \n",
            "3             0.0           500.0  ...      399.0       16.0      558.0   \n",
            "4           -60.0          -468.0  ...       91.0      -84.0      615.0   \n",
            "\n",
            "   X16699_at  X83863_at  Z17240_at  L49218_f_at  M71243_f_at  Z78285_f_at  \\\n",
            "0     -135.0     1074.0      475.0         48.0        168.0        -70.0   \n",
            "1      -67.0       67.0      263.0        -33.0        -33.0        -21.0   \n",
            "2       15.0      245.0      164.0         84.0        100.0        -18.0   \n",
            "3       24.0      893.0      297.0          6.0       1971.0        -42.0   \n",
            "4      -52.0     1235.0        9.0          7.0       1545.0        -81.0   \n",
            "\n",
            "   rating  \n",
            "0     ALL  \n",
            "1     ALL  \n",
            "2     ALL  \n",
            "3     ALL  \n",
            "4     ALL  \n",
            "\n",
            "[5 rows x 7130 columns]\n"
          ]
        }
      ]
    },
    {
      "cell_type": "code",
      "source": [
        "import openml\n",
        "import pandas as pd\n",
        "\n",
        "# بارگذاری دیتاست Leukemia-3\n",
        "dataset = openml.datasets.get_dataset(45091)\n",
        "data, y_data, _, _ = dataset.get_data(target=dataset.default_target_attribute)\n",
        "\n",
        "# افزودن ستون هدف به دیتافریم\n",
        "data['rating'] = y_data\n",
        "\n",
        "# نمایش اطلاعات اولیه\n",
        "print(data.shape)\n",
        "print(data.head())\n"
      ],
      "metadata": {
        "colab": {
          "base_uri": "https://localhost:8080/"
        },
        "id": "oL5XHm4MnRDa",
        "outputId": "3992a133-a121-415f-d504-5d1ae2164f3e"
      },
      "execution_count": 18,
      "outputs": [
        {
          "output_type": "stream",
          "name": "stdout",
          "text": [
            "(72, 7130)\n",
            "   AFFX-BioB-5_at  AFFX-BioB-M_at  AFFX-BioB-3_at  AFFX-BioC-5_at  \\\n",
            "0          -342.0          -200.0            41.0           328.0   \n",
            "1           -87.0          -248.0           262.0           295.0   \n",
            "2           -62.0           -23.0            -7.0           142.0   \n",
            "3            22.0          -153.0            17.0           276.0   \n",
            "4            86.0           -36.0          -141.0           252.0   \n",
            "\n",
            "   AFFX-BioC-3_at  AFFX-BioDn-5_at  AFFX-BioDn-3_at  AFFX-CreX-5_at  \\\n",
            "0          -224.0           -427.0           -656.0          -292.0   \n",
            "1          -226.0           -493.0            367.0          -452.0   \n",
            "2          -233.0           -284.0           -167.0           -97.0   \n",
            "3          -211.0           -250.0             55.0          -141.0   \n",
            "4          -201.0           -384.0           -420.0          -197.0   \n",
            "\n",
            "   AFFX-CreX-3_at  AFFX-BioB-5_st  ...  U58516_at  U73738_at  X06956_at  \\\n",
            "0           137.0          -144.0  ...     1023.0       67.0      214.0   \n",
            "1           194.0           162.0  ...      529.0     -295.0      352.0   \n",
            "2           -12.0           -70.0  ...      383.0       46.0      104.0   \n",
            "3             0.0           500.0  ...      399.0       16.0      558.0   \n",
            "4           -60.0          -468.0  ...       91.0      -84.0      615.0   \n",
            "\n",
            "   X16699_at  X83863_at  Z17240_at  L49218_f_at  M71243_f_at  Z78285_f_at  \\\n",
            "0     -135.0     1074.0      475.0         48.0        168.0        -70.0   \n",
            "1      -67.0       67.0      263.0        -33.0        -33.0        -21.0   \n",
            "2       15.0      245.0      164.0         84.0        100.0        -18.0   \n",
            "3       24.0      893.0      297.0          6.0       1971.0        -42.0   \n",
            "4      -52.0     1235.0        9.0          7.0       1545.0        -81.0   \n",
            "\n",
            "   rating  \n",
            "0  B-cell  \n",
            "1  B-cell  \n",
            "2  B-cell  \n",
            "3  B-cell  \n",
            "4  B-cell  \n",
            "\n",
            "[5 rows x 7130 columns]\n"
          ]
        }
      ]
    },
    {
      "cell_type": "code",
      "source": [
        "import openml\n",
        "import pandas as pd\n",
        "\n",
        "# بارگذاری دیتاست Leukemia\n",
        "dataset = openml.datasets.get_dataset(45092)\n",
        "data, y_data, _, _ = dataset.get_data(target=dataset.default_target_attribute)\n",
        "\n",
        "# افزودن ستون هدف به دیتافریم\n",
        "data['rating'] = y_data\n",
        "\n",
        "# نمایش اطلاعات اولیه\n",
        "print(data.shape)\n",
        "print(data.head())\n"
      ],
      "metadata": {
        "colab": {
          "base_uri": "https://localhost:8080/"
        },
        "id": "g92FHscTm9Sp",
        "outputId": "0f8993c9-6bc1-4365-afb3-c3d1aeac9127"
      },
      "execution_count": 19,
      "outputs": [
        {
          "output_type": "stream",
          "name": "stdout",
          "text": [
            "(72, 7130)\n",
            "   AFFX-BioB-5_at  AFFX-BioB-M_at  AFFX-BioB-3_at  AFFX-BioC-5_at  \\\n",
            "0          -342.0          -200.0            41.0           328.0   \n",
            "1           -87.0          -248.0           262.0           295.0   \n",
            "2           -62.0           -23.0            -7.0           142.0   \n",
            "3            22.0          -153.0            17.0           276.0   \n",
            "4            86.0           -36.0          -141.0           252.0   \n",
            "\n",
            "   AFFX-BioC-3_at  AFFX-BioDn-5_at  AFFX-BioDn-3_at  AFFX-CreX-5_at  \\\n",
            "0          -224.0           -427.0           -656.0          -292.0   \n",
            "1          -226.0           -493.0            367.0          -452.0   \n",
            "2          -233.0           -284.0           -167.0           -97.0   \n",
            "3          -211.0           -250.0             55.0          -141.0   \n",
            "4          -201.0           -384.0           -420.0          -197.0   \n",
            "\n",
            "   AFFX-CreX-3_at  AFFX-BioB-5_st  ...  U58516_at  U73738_at  X06956_at  \\\n",
            "0           137.0          -144.0  ...     1023.0       67.0      214.0   \n",
            "1           194.0           162.0  ...      529.0     -295.0      352.0   \n",
            "2           -12.0           -70.0  ...      383.0       46.0      104.0   \n",
            "3             0.0           500.0  ...      399.0       16.0      558.0   \n",
            "4           -60.0          -468.0  ...       91.0      -84.0      615.0   \n",
            "\n",
            "   X16699_at  X83863_at  Z17240_at  L49218_f_at  M71243_f_at  Z78285_f_at  \\\n",
            "0     -135.0     1074.0      475.0         48.0        168.0        -70.0   \n",
            "1      -67.0       67.0      263.0        -33.0        -33.0        -21.0   \n",
            "2       15.0      245.0      164.0         84.0        100.0        -18.0   \n",
            "3       24.0      893.0      297.0          6.0       1971.0        -42.0   \n",
            "4      -52.0     1235.0        9.0          7.0       1545.0        -81.0   \n",
            "\n",
            "   rating  \n",
            "0  B-cell  \n",
            "1  B-cell  \n",
            "2  B-cell  \n",
            "3  B-cell  \n",
            "4  B-cell  \n",
            "\n",
            "[5 rows x 7130 columns]\n"
          ]
        }
      ]
    },
    {
      "cell_type": "code",
      "source": [
        "import openml\n",
        "import pandas as pd\n",
        "\n",
        "# بارگذاری دیتاست GLI\n",
        "dataset = openml.datasets.get_dataset(45089)\n",
        "data, y_data, _, _ = dataset.get_data(target=dataset.default_target_attribute)\n",
        "\n",
        "# افزودن ستون هدف به دیتافریم\n",
        "data['rating'] = y_data\n",
        "\n",
        "# نمایش اطلاعات اولیه\n",
        "print(data.shape)\n",
        "print(data.head())\n"
      ],
      "metadata": {
        "colab": {
          "base_uri": "https://localhost:8080/"
        },
        "id": "pj_VC_yEmuxq",
        "outputId": "fa98cf6f-111e-4146-a4ec-bf77cf62b533"
      },
      "execution_count": 14,
      "outputs": [
        {
          "output_type": "stream",
          "name": "stdout",
          "text": [
            "(85, 22284)\n",
            "        att2      att3     att4      att5     att6      att7      att8  \\\n",
            "0  29844.273  1011.659  689.391  5198.424  269.881  2033.805   986.082   \n",
            "1  17265.617   793.230  584.338  4367.415  538.245  1342.165  1087.825   \n",
            "2  25947.941   880.637  862.301  4867.595  294.926  1036.071   979.293   \n",
            "3  29054.473  1000.799  842.576  6974.653  428.498  1890.961  1055.917   \n",
            "4  30286.408   687.285  798.224  8020.007  404.549  2420.757  1398.942   \n",
            "\n",
            "      att9   att10     att11  ...  att22276   att22277    att22278  att22279  \\\n",
            "0  149.570  44.134   527.588  ...   404.532   67839.32   53978.508    52.274   \n",
            "1  117.612  42.127   421.173  ...   427.738   97757.89   80901.240    30.942   \n",
            "2   93.095  28.982   494.550  ...   496.755   84907.32   61828.957    77.635   \n",
            "3   80.668  71.308  1010.702  ...   617.696  114561.35   99823.070    79.836   \n",
            "4  248.498  67.267   945.524  ...  1033.011  134436.27  106568.930    41.904   \n",
            "\n",
            "   att22280  att22281  att22282  att22283  att22284  rating  \n",
            "0    28.044    35.416     4.863    26.816    22.039       1  \n",
            "1    42.106   103.130    19.493    91.644    27.866       1  \n",
            "2    33.896    16.005     4.074    37.106     9.872       1  \n",
            "3    58.045    54.872    11.043    48.565    30.257       1  \n",
            "4    78.221   144.647    15.498   158.274    34.885       1  \n",
            "\n",
            "[5 rows x 22284 columns]\n"
          ]
        }
      ]
    },
    {
      "cell_type": "code",
      "source": [
        "import openml\n",
        "import pandas as pd\n",
        "\n",
        "# بارگذاری دیتاست DLBCL\n",
        "dataset = openml.datasets.get_dataset(45088)\n",
        "data, y_data, _, _ = dataset.get_data(target=dataset.default_target_attribute)\n",
        "\n",
        "# افزودن ستون هدف به دیتافریم\n",
        "data['rating'] = y_data\n",
        "\n",
        "# نمایش اطلاعات اولیه\n",
        "print(data.shape)\n",
        "print(data.head())\n"
      ],
      "metadata": {
        "colab": {
          "base_uri": "https://localhost:8080/"
        },
        "id": "dDIVmuWPmkLh",
        "outputId": "24902e76-6084-4e8f-e988-b5ee3d53b01c"
      },
      "execution_count": 15,
      "outputs": [
        {
          "output_type": "stream",
          "name": "stdout",
          "text": [
            "(77, 5470)\n",
            "    att2     att3  att4   att5   att6    att7     att8     att9   att10  \\\n",
            "0   59.0  17480.0   3.0  384.0  541.0  2310.0     21.0   -160.0   -30.0   \n",
            "1  267.0  12086.0  52.0 -325.0   97.0  6170.0   1780.0    254.0  1475.0   \n",
            "2   88.0   8611.0  -7.0  491.0  493.0  6772.0   1452.0   1272.0   665.0   \n",
            "3  -37.0  24197.0  25.0 -694.0   47.0  3017.0  11801.0  10003.0  1255.0   \n",
            "4  109.0  15109.0  38.0 -108.0  216.0  3201.0   3296.0   2997.0  2687.0   \n",
            "\n",
            "     att11  ...  att5462  att5463  att5464  att5465  att5466  att5467  \\\n",
            "0  20837.0  ...     71.0    286.0    575.0    165.0    132.0   1036.0   \n",
            "1   1285.0  ...    221.0    176.0    409.0   2076.0    147.0   4254.0   \n",
            "2  16883.0  ...    266.0    299.0    630.0   1468.0    169.0   1934.0   \n",
            "3   3241.0  ...    126.0     63.0    166.0    910.0     13.0   2469.0   \n",
            "4   4283.0  ...    370.0    188.0    822.0    350.0     69.0    608.0   \n",
            "\n",
            "   att5468  att5469  att5470  rating  \n",
            "0   1523.0    366.0      3.0       0  \n",
            "1   6056.0     81.0     -4.0       0  \n",
            "2   2901.0    450.0     38.0       0  \n",
            "3   2465.0    321.0    -63.0       0  \n",
            "4   1667.0    213.0     15.0       0  \n",
            "\n",
            "[5 rows x 5470 columns]\n"
          ]
        }
      ]
    },
    {
      "cell_type": "code",
      "source": [
        "import openml\n",
        "import pandas as pd\n",
        "\n",
        "# بارگذاری دیتاست Colon\n",
        "dataset = openml.datasets.get_dataset(45087)\n",
        "data, y_data, _, _ = dataset.get_data(target=dataset.default_target_attribute)\n",
        "\n",
        "# افزودن ستون هدف به دیتافریم\n",
        "data['rating'] = y_data\n",
        "\n",
        "# نمایش اطلاعات اولیه\n",
        "print(data.shape)\n",
        "print(data.head())\n"
      ],
      "metadata": {
        "colab": {
          "base_uri": "https://localhost:8080/"
        },
        "id": "lA_so2mBmYx1",
        "outputId": "25f6d689-1f88-4ecb-93e3-e5bbb5df68f1"
      },
      "execution_count": 13,
      "outputs": [
        {
          "output_type": "stream",
          "name": "stdout",
          "text": [
            "(62, 2001)\n",
            "      att_1     att_2     att_3     att_4     att_5     att_6     att_7  \\\n",
            "0  2.080750  1.099070  0.927763  1.029080 -0.130763  1.265460 -0.436286   \n",
            "1  1.109460  0.786453  0.445560 -0.146323 -0.996316  0.555759  0.290734   \n",
            "2 -0.676530  1.693100  1.559250  1.559980 -0.982179 -1.358510 -1.313990   \n",
            "3  0.534396  1.677540  1.489030  0.778605 -0.183776 -1.116850 -1.487560   \n",
            "4 -1.018900  0.511080  0.755641  1.013820  0.529899  0.160440 -0.087055   \n",
            "\n",
            "      att_8     att_9    att_10  ...  att_1992  att_1993  att_1994  att_1995  \\\n",
            "0  0.728881  2.107980  1.359870  ... -0.138451  0.382957  0.876697 -0.216234   \n",
            "1 -0.145259  1.132660  0.559093  ... -0.205499 -1.815370  0.324373 -1.296910   \n",
            "2 -0.455067  0.295214  0.290694  ...  1.230160 -2.039000  2.366090  0.820656   \n",
            "3 -0.579511  0.292683  1.345480  ... -0.593149 -4.440580  1.720710 -0.124617   \n",
            "4  1.295290  0.458736  0.714082  ...  0.497628 -0.083921 -0.382733 -0.913389   \n",
            "\n",
            "   att_1996  att_1997  att_1998  att_1999  att_2000  rating  \n",
            "0 -1.408300  0.393327 -0.148522  1.591530 -0.217481      -1  \n",
            "1 -0.870757  1.108740  1.094010 -0.492141 -1.554080       1  \n",
            "2  1.404500  0.176860 -0.086285 -0.390878 -0.089465      -1  \n",
            "3 -0.435880  0.228440 -0.893938  1.005880 -0.631247       1  \n",
            "4  1.122930  0.834571 -0.283786 -2.860340  0.280871      -1  \n",
            "\n",
            "[5 rows x 2001 columns]\n"
          ]
        }
      ]
    },
    {
      "cell_type": "code",
      "source": [
        "import openml\n",
        "import pandas as pd\n",
        "\n",
        "# بارگذاری دیتاست CNS\n",
        "dataset = openml.datasets.get_dataset(45086)\n",
        "data, y_data, _, _ = dataset.get_data(target=dataset.default_target_attribute)\n",
        "\n",
        "# افزودن ستون هدف به دیتافریم\n",
        "data['rating'] = y_data\n",
        "\n",
        "# نمایش اطلاعات اولیه\n",
        "print(data.shape)\n",
        "print(data.head())\n"
      ],
      "metadata": {
        "colab": {
          "base_uri": "https://localhost:8080/"
        },
        "id": "-78JZHlLmThb",
        "outputId": "e032ee95-9355-4673-be8b-22f76b0e6631"
      },
      "execution_count": 12,
      "outputs": [
        {
          "output_type": "stream",
          "name": "stdout",
          "text": [
            "(60, 7130)\n",
            "   AFFX-BioB-5_at  AFFX-BioB-M_at  AFFX-BioB-3_at  AFFX-BioC-5_at  \\\n",
            "0           -60.0          -109.0            45.0            22.0   \n",
            "1          -159.0          -113.0           -62.0           -16.0   \n",
            "2          -119.0           -31.0             4.0           -11.0   \n",
            "3            41.0             9.0          -256.0           370.0   \n",
            "4          -165.0           -57.0           171.0           216.0   \n",
            "\n",
            "   AFFX-BioC-3_at  AFFX-BioDn-5_at  AFFX-BioDn-3_at  AFFX-CreX-5_at  \\\n",
            "0             7.0            -61.0           -211.0          -102.0   \n",
            "1          -160.0           -395.0             97.0          -157.0   \n",
            "2          -197.0           -541.0           -277.0          -166.0   \n",
            "3          -302.0           -680.0            254.0            31.0   \n",
            "4          -692.0           -381.0            762.0            -6.0   \n",
            "\n",
            "   AFFX-CreX-3_at  AFFX-BioB-5_st  ...  U58516_at  U73738_at  X06956_at  \\\n",
            "0           -20.0            98.0  ...     1082.0      -12.0       44.0   \n",
            "1            15.0            -8.0  ...     1295.0     -677.0     -452.0   \n",
            "2            17.0           392.0  ...      592.0       55.0       88.0   \n",
            "3           186.0           358.0  ...      433.0       71.0     -237.0   \n",
            "4            44.0           216.0  ...     2160.0     -120.0      -82.0   \n",
            "\n",
            "   X16699_at  X83863_at  Z17240_at  L49218_f_at  M71243_f_at  Z78285_f_at  \\\n",
            "0      -48.0      123.0       89.0        -25.0         56.0        -63.0   \n",
            "1     -750.0     1273.0       -1.0       -750.0        -45.0       -293.0   \n",
            "2      -37.0      310.0      159.0         11.0          2.0          2.0   \n",
            "3     -166.0       52.0      -48.0       -183.0        328.0       -244.0   \n",
            "4      -25.0     3888.0      393.0        -38.0        190.0         38.0   \n",
            "\n",
            "   rating  \n",
            "0       1  \n",
            "1       1  \n",
            "2       1  \n",
            "3       1  \n",
            "4       1  \n",
            "\n",
            "[5 rows x 7130 columns]\n"
          ]
        }
      ]
    },
    {
      "cell_type": "code",
      "source": [
        "import openml\n",
        "import pandas as pd\n",
        "\n",
        "# بارگذاری دیتاست Breast\n",
        "dataset = openml.datasets.get_dataset(45085)\n",
        "data, y_data, _, _ = dataset.get_data(target=dataset.default_target_attribute)\n",
        "\n",
        "# افزودن ستون هدف به دیتافریم\n",
        "data['rating'] = y_data\n",
        "\n",
        "# نمایش اطلاعات اولیه\n",
        "print(data.shape)\n",
        "print(data.head())\n"
      ],
      "metadata": {
        "colab": {
          "base_uri": "https://localhost:8080/"
        },
        "id": "2mwZ2rJfmDwF",
        "outputId": "6a740df7-c781-45d7-adcf-51aa79d52e5d"
      },
      "execution_count": 11,
      "outputs": [
        {
          "output_type": "stream",
          "name": "stdout",
          "text": [
            "(97, 24482)\n",
            "   Contig45645_RC  Contig44916_RC  D25272  J00129  Contig29982_RC  \\\n",
            "0          -0.299           0.093  -0.215  -0.566          -0.596   \n",
            "1          -0.081           0.009  -0.091  -0.518          -0.502   \n",
            "2          -0.125           0.070  -0.006  -0.575          -0.585   \n",
            "3          -0.270           0.123   0.056  -0.499          -0.402   \n",
            "4          -0.141           0.025  -0.031  -0.465          -0.533   \n",
            "\n",
            "   Contig26811  D25274  Contig36292  Contig42854  Contig34839  ...  NM_000898  \\\n",
            "0       -0.195   0.039       -0.409       -0.352        0.066  ...     -0.960   \n",
            "1       -0.149   0.098       -0.090        0.138        0.061  ...     -0.531   \n",
            "2       -0.183   0.102        0.023       -0.350       -0.005  ...     -0.883   \n",
            "3       -0.099  -0.145       -0.103        0.181        0.236  ...     -0.044   \n",
            "4       -0.065   0.101       -0.008       -0.019        0.026  ...      0.280   \n",
            "\n",
            "   NM_000899  Contig20164_RC  Contig8985_RC  Contig36062_RC  Contig35333_RC  \\\n",
            "0     -0.211           0.155         -0.095          -0.025          -0.037   \n",
            "1     -0.020           0.014         -0.123           0.148           0.024   \n",
            "2     -0.159           0.022          0.006          -0.086           0.019   \n",
            "3     -0.096           0.018          0.000           0.076           0.057   \n",
            "4     -0.088           0.043          0.207          -0.124          -0.041   \n",
            "\n",
            "   Contig62037_RC  AF067420  Contig15167_RC   rating  \n",
            "0           0.215     0.307           0.321  relapse  \n",
            "1          -0.070    -0.209           0.105  relapse  \n",
            "2           0.026    -0.822           0.199  relapse  \n",
            "3          -0.016    -0.360          -0.038  relapse  \n",
            "4          -0.077    -0.432          -0.015  relapse  \n",
            "\n",
            "[5 rows x 24482 columns]\n"
          ]
        }
      ]
    },
    {
      "cell_type": "code",
      "source": [
        "import openml\n",
        "import pandas as pd\n",
        "\n",
        "# بارگذاری دیتاست 11_Tumors\n",
        "dataset = openml.datasets.get_dataset(45084)\n",
        "data, y_data, _, _ = dataset.get_data(target=dataset.default_target_attribute)\n",
        "\n",
        "# افزودن ستون هدف به دیتافریم\n",
        "data['rating'] = y_data\n",
        "\n",
        "# نمایش اطلاعات اولیه\n",
        "print(data.shape)\n",
        "print(data.head())\n"
      ],
      "metadata": {
        "colab": {
          "base_uri": "https://localhost:8080/"
        },
        "id": "0VlHSmU6l2WF",
        "outputId": "05cd612a-8139-4b7a-bcc3-f3830ad1948c"
      },
      "execution_count": 9,
      "outputs": [
        {
          "output_type": "stream",
          "name": "stdout",
          "text": [
            "(174, 12534)\n",
            "    att2   att3  att4  att5   att6  att7    att8  att9   att10   att11  ...  \\\n",
            "0  153.0  228.0  32.0  30.0  -36.0  48.0   984.0 -19.0   537.0  1886.0  ...   \n",
            "1  154.0   99.0  43.0  55.0   66.0  63.0  5051.0 -26.0  1001.0  1315.0  ...   \n",
            "2   84.0   85.0  19.0  28.0 -104.0  28.0  2387.0 -80.0  1131.0  2457.0  ...   \n",
            "3  234.0  169.0  40.0  36.0   81.0   6.0  2657.0  -6.0  1214.0  1944.0  ...   \n",
            "4  104.0   58.0  42.0  13.0  107.0   5.0  3562.0  18.0  1464.0  1385.0  ...   \n",
            "\n",
            "   att12526  att12527  att12528  att12529  att12530  att12531  att12532  \\\n",
            "0      30.0      83.0      28.0      57.0     106.0     128.0       5.0   \n",
            "1      43.0      90.0      30.0      82.0     485.0     896.0      -2.0   \n",
            "2      51.0     110.0      10.0      86.0      62.0      76.0     -47.0   \n",
            "3      52.0      82.0      12.0     135.0      60.0      69.0      22.0   \n",
            "4      42.0      73.0       1.0      82.0      60.0      50.0      30.0   \n",
            "\n",
            "   att12533  att12534  rating  \n",
            "0      74.0    -188.0       7  \n",
            "1      91.0     -78.0       7  \n",
            "2      92.0    -103.0       7  \n",
            "3      89.0    -180.0       7  \n",
            "4      74.0    -198.0       7  \n",
            "\n",
            "[5 rows x 12534 columns]\n"
          ]
        }
      ]
    },
    {
      "cell_type": "code",
      "source": [
        "import openml\n",
        "import pandas as pd\n",
        "\n",
        "# بارگذاری دیتاست 9_Tumors\n",
        "dataset = openml.datasets.get_dataset(45083)\n",
        "data, y_data, _, _ = dataset.get_data(target=dataset.default_target_attribute)\n",
        "\n",
        "# افزودن ستون هدف به دیتافریم\n",
        "data['rating'] = y_data\n",
        "\n",
        "# نمایش اطلاعات اولیه\n",
        "print(data.shape)\n",
        "print(data.head())\n"
      ],
      "metadata": {
        "colab": {
          "base_uri": "https://localhost:8080/"
        },
        "id": "LRoHcwDpjAmP",
        "outputId": "d8b27742-b2ae-4035-8ab2-d9feb08eb785"
      },
      "execution_count": 8,
      "outputs": [
        {
          "output_type": "stream",
          "name": "stdout",
          "text": [
            "(60, 5727)\n",
            "   att2  att3  att4  att5    att6    att7     att8     att9  att10    att11  \\\n",
            "0 -23.0  18.0  17.0   2.0   146.0   748.0   8145.0   8428.0  -29.0  11023.0   \n",
            "1  10.0  -3.0  81.0  85.0  1044.0  3682.0  15466.0  15726.0   20.0  11118.0   \n",
            "2  -3.0   4.0  63.0 -20.0   217.0  1395.0   9073.0  10209.0   24.0  11404.0   \n",
            "3   5.0   2.0  83.0  57.0   209.0  1426.0   9729.0  10898.0  -11.0  14919.0   \n",
            "4 -16.0  -5.0  26.0  -3.0   131.0   706.0   8042.0   8979.0    5.0   8714.0   \n",
            "\n",
            "   ...  att5719  att5720  att5721  att5722  att5723  att5724  att5725  \\\n",
            "0  ...     41.0     38.0     17.0     42.0     50.0    467.0     -2.0   \n",
            "1  ...     -6.0     12.0     14.0     49.0     18.0   2599.0    -79.0   \n",
            "2  ...      9.0     32.0     14.0    -11.0     36.0    160.0     10.0   \n",
            "3  ...     50.0    -14.0     16.0     92.0     24.0   1692.0     -4.0   \n",
            "4  ...     11.0     21.0     35.0     -2.0    187.0    173.0     24.0   \n",
            "\n",
            "   att5726  att5727  rating  \n",
            "0    118.0     40.0       0  \n",
            "1     25.0     25.0       0  \n",
            "2    408.0      7.0       0  \n",
            "3   1117.0     55.0       0  \n",
            "4    585.0      6.0       0  \n",
            "\n",
            "[5 rows x 5727 columns]\n"
          ]
        }
      ]
    },
    {
      "cell_type": "code",
      "source": [
        "# Breast Cancer (Wisconsin)\n",
        "# تشخیص بدخیمی یا خوش‌خیمی\n",
        "\n",
        "import openml\n",
        "import pandas as pd\n",
        "\n",
        "# 📥 دانلود دیتاست از OpenML با ID 151 (Breast Cancer Wisconsin)\n",
        "dataset = openml.datasets.get_dataset(151)\n",
        "data, y_data, _, _ = dataset.get_data(target=dataset.default_target_attribute)\n",
        "\n",
        "# 🔧 افزودن target به dataframe کامل (مثل خواندن فایل CSV)\n",
        "data['rating'] = y_data  # فرض می‌گیریم نام ستون هدف \"rating\" باشه برای یکسان بودن با مثال شما\n",
        "\n",
        "# حذف سطرهای حاوی NaN\n",
        "data = data.dropna()\n",
        "\n",
        "# 🔍 نمایش اطلاعات\n",
        "print(data.columns)\n",
        "print(data.head())\n",
        "print(data.shape)\n",
        "\n",
        "# 🎯 جدا کردن ویژگی‌ها و برچسب‌ها (مطابق ساختار شما)\n",
        "X_data = data.drop('rating', axis=1)\n",
        "y_data = data['rating']\n",
        "data_features = X_data.columns\n"
      ],
      "metadata": {
        "colab": {
          "base_uri": "https://localhost:8080/"
        },
        "id": "C7f-lG9UCLRD",
        "outputId": "84001e22-35f5-4cae-b99e-30968d4e732f"
      },
      "execution_count": 2,
      "outputs": [
        {
          "output_type": "stream",
          "name": "stdout",
          "text": [
            "Index(['date', 'day', 'period', 'nswprice', 'nswdemand', 'vicprice',\n",
            "       'vicdemand', 'transfer', 'rating'],\n",
            "      dtype='object')\n",
            "   date day    period  nswprice  nswdemand  vicprice  vicdemand  transfer  \\\n",
            "0   0.0   2  0.000000  0.056443   0.439155  0.003467   0.422915  0.414912   \n",
            "1   0.0   2  0.021277  0.051699   0.415055  0.003467   0.422915  0.414912   \n",
            "2   0.0   2  0.042553  0.051489   0.385004  0.003467   0.422915  0.414912   \n",
            "3   0.0   2  0.063830  0.045485   0.314639  0.003467   0.422915  0.414912   \n",
            "4   0.0   2  0.085106  0.042482   0.251116  0.003467   0.422915  0.414912   \n",
            "\n",
            "  rating  \n",
            "0     UP  \n",
            "1     UP  \n",
            "2     UP  \n",
            "3     UP  \n",
            "4   DOWN  \n",
            "(45312, 9)\n"
          ]
        }
      ]
    },
    {
      "cell_type": "code",
      "source": [
        "# Blood Transfusion\n",
        "# پیش‌بینی اهدای دوباره خون\n",
        "\n",
        "import openml\n",
        "import pandas as pd\n",
        "\n",
        "dataset = openml.datasets.get_dataset(1464)\n",
        "data, y_data, _, _ = dataset.get_data(target=dataset.default_target_attribute)\n",
        "print(data.shape)\n",
        "\n",
        "\n",
        "# 🔧 افزودن target به dataframe کامل (مثل خواندن فایل CSV)\n",
        "data['rating'] = y_data  # فرض می‌گیریم نام ستون هدف \"rating\" باشه برای یکسان بودن با مثال شما\n",
        "# حذف سطرهای حاوی NaN\n",
        "data = data.dropna()\n",
        "\n",
        "\n",
        "# 🔍 نمایش اطلاعات\n",
        "print(data.columns)\n",
        "print(data.head())\n",
        "print(data.shape)\n",
        "\n",
        "# 🎯 جدا کردن ویژگی‌ها و برچسب‌ها (مطابق ساختار شما)\n",
        "X_data = data.drop('rating', axis=1)\n",
        "y_data = data['rating']\n",
        "data_features = X_data.columns\n"
      ],
      "metadata": {
        "colab": {
          "base_uri": "https://localhost:8080/"
        },
        "id": "7y-fX4t4EkDi",
        "outputId": "03410746-86fb-4d4c-ff07-f0611e22004f"
      },
      "execution_count": null,
      "outputs": [
        {
          "output_type": "stream",
          "name": "stdout",
          "text": [
            "(748, 4)\n",
            "Index(['V1', 'V2', 'V3', 'V4', 'rating'], dtype='object')\n",
            "   V1  V2       V3  V4 rating\n",
            "0   2  50  12500.0  98      2\n",
            "1   0  13   3250.0  28      2\n",
            "2   1  16   4000.0  35      2\n",
            "3   2  20   5000.0  45      2\n",
            "4   1  24   6000.0  77      1\n",
            "(748, 5)\n"
          ]
        }
      ]
    },
    {
      "cell_type": "code",
      "source": [
        "# Mfeat-Fourier\n",
        "# شناسایی اعداد بر اساس ویژگی‌های فوریه\n",
        "import openml\n",
        "import pandas as pd\n",
        "\n",
        "dataset = openml.datasets.get_dataset(923)\n",
        "data, y_data, _, _ = dataset.get_data(target=dataset.default_target_attribute)\n",
        "\n",
        "# 🔧 افزودن target به dataframe کامل (مثل خواندن فایل CSV)\n",
        "data['rating'] = y_data  # فرض می‌گیریم نام ستون هدف \"rating\" باشه برای یکسان بودن با مثال شما\n",
        "\n",
        "print(data.shape)\n",
        "# حذف سطرهای حاوی NaN\n",
        "data = data.dropna()\n",
        "\n",
        "# 🔍 نمایش اطلاعات\n",
        "print(data.columns)\n",
        "print(data.head())\n",
        "print(data.shape)\n",
        "\n",
        "# 🎯 جدا کردن ویژگی‌ها و برچسب‌ها (مطابق ساختار شما)\n",
        "X_data = data.drop('rating', axis=1)\n",
        "y_data = data['rating']\n",
        "data_features = X_data.columns\n"
      ],
      "metadata": {
        "colab": {
          "base_uri": "https://localhost:8080/"
        },
        "id": "K0zaPa2nHE5P",
        "outputId": "693f5c28-fa84-43b2-cc48-9fc8412652f0"
      },
      "execution_count": null,
      "outputs": [
        {
          "output_type": "stream",
          "name": "stdout",
          "text": [
            "(8641, 4)\n",
            "Index(['northing', 'easting', 'resistivity', 'isns', 'rating'], dtype='object')\n",
            "   northing  easting  resistivity isns rating\n",
            "0    0.0180   0.0160        34.15    0      P\n",
            "1    0.0178   0.0252        34.81    0      P\n",
            "2    0.0176   0.0345        35.65    0      P\n",
            "3    0.0174   0.0437        36.44    0      P\n",
            "4    0.0171   0.0529        37.10    0      P\n",
            "(8641, 5)\n"
          ]
        }
      ]
    },
    {
      "cell_type": "code",
      "source": [
        "# SPECTF Heart\n",
        "# تشخیص بیماری قلبی\n",
        "\n",
        "import openml\n",
        "import pandas as pd\n",
        "\n",
        "dataset = openml.datasets.get_dataset(1471)\n",
        "data, y_data, _, _ = dataset.get_data(target=dataset.default_target_attribute)\n",
        "\n",
        "# 🔧 افزودن target به dataframe کامل (مثل خواندن فایل CSV)\n",
        "data['rating'] = y_data  # فرض می‌گیریم نام ستون هدف \"rating\" باشه برای یکسان بودن با مثال شما\n",
        "\n",
        "print(data.shape)\n",
        "# حذف سطرهای حاوی NaN\n",
        "data = data.dropna()\n",
        "\n",
        "# 🔍 نمایش اطلاعات\n",
        "print(data.columns)\n",
        "print(data.head())\n",
        "print(data.shape)\n",
        "\n",
        "# 🎯 جدا کردن ویژگی‌ها و برچسب‌ها (مطابق ساختار شما)\n",
        "X_data = data.drop('rating', axis=1)\n",
        "y_data = data['rating']\n",
        "data_features = X_data.columns\n"
      ],
      "metadata": {
        "colab": {
          "base_uri": "https://localhost:8080/"
        },
        "id": "tyqxwDHHHfN9",
        "outputId": "9f59f1bc-a154-4bc6-f9c2-ad9063184126"
      },
      "execution_count": null,
      "outputs": [
        {
          "output_type": "stream",
          "name": "stdout",
          "text": [
            "(14980, 15)\n",
            "Index(['V1', 'V2', 'V3', 'V4', 'V5', 'V6', 'V7', 'V8', 'V9', 'V10', 'V11',\n",
            "       'V12', 'V13', 'V14', 'rating'],\n",
            "      dtype='object')\n",
            "        V1       V2       V3       V4       V5       V6       V7       V8  \\\n",
            "0  4329.23  4009.23  4289.23  4148.21  4350.26  4586.15  4096.92  4641.03   \n",
            "1  4324.62  4004.62  4293.85  4148.72  4342.05  4586.67  4097.44  4638.97   \n",
            "2  4327.69  4006.67  4295.38  4156.41  4336.92  4583.59  4096.92  4630.26   \n",
            "3  4328.72  4011.79  4296.41  4155.90  4343.59  4582.56  4097.44  4630.77   \n",
            "4  4326.15  4011.79  4292.31  4151.28  4347.69  4586.67  4095.90  4627.69   \n",
            "\n",
            "        V9      V10      V11      V12      V13      V14 rating  \n",
            "0  4222.05  4238.46  4211.28  4280.51  4635.90  4393.85      1  \n",
            "1  4210.77  4226.67  4207.69  4279.49  4632.82  4384.10      1  \n",
            "2  4207.69  4222.05  4206.67  4282.05  4628.72  4389.23      1  \n",
            "3  4217.44  4235.38  4210.77  4287.69  4632.31  4396.41      1  \n",
            "4  4210.77  4244.10  4212.82  4288.21  4632.82  4398.46      1  \n",
            "(14980, 15)\n"
          ]
        }
      ]
    },
    {
      "cell_type": "code",
      "source": [
        "# Steel Plates Faults\n",
        "# طبقه‌بندی نقص صفحات فلزی\n",
        "\n",
        "import openml\n",
        "import pandas as pd\n",
        "\n",
        "dataset = openml.datasets.get_dataset(1067)\n",
        "data, y_data, _, _ = dataset.get_data(target=dataset.default_target_attribute)\n",
        "\n",
        "# 🔧 افزودن target به dataframe کامل (مثل خواندن فایل CSV)\n",
        "data['rating'] = y_data  # فرض می‌گیریم نام ستون هدف \"rating\" باشه برای یکسان بودن با مثال شما\n",
        "\n",
        "print(data.shape)\n",
        "# حذف سطرهای حاوی NaN\n",
        "data = data.dropna()\n",
        "\n",
        "# 🔍 نمایش اطلاعات\n",
        "print(data.columns)\n",
        "print(data.head())\n",
        "print(data.shape)\n",
        "\n",
        "# 🎯 جدا کردن ویژگی‌ها و برچسب‌ها (مطابق ساختار شما)\n",
        "X_data = data.drop('rating', axis=1)\n",
        "y_data = data['rating']\n",
        "data_features = X_data.columns\n"
      ],
      "metadata": {
        "colab": {
          "base_uri": "https://localhost:8080/"
        },
        "id": "dQGiJYt-IDej",
        "outputId": "1e522f8b-bb17-4b76-efc6-f99a8c68f91e"
      },
      "execution_count": null,
      "outputs": [
        {
          "output_type": "stream",
          "name": "stdout",
          "text": [
            "(2109, 22)\n",
            "Index(['loc', 'v(g)', 'ev(g)', 'iv(g)', 'n', 'v', 'l', 'd', 'i', 'e', 'b', 't',\n",
            "       'lOCode', 'lOComment', 'lOBlank', 'locCodeAndComment', 'uniq_Op',\n",
            "       'uniq_Opnd', 'total_Op', 'total_Opnd', 'branchCount', 'rating'],\n",
            "      dtype='object')\n",
            "    loc  v(g)  ev(g)  iv(g)      n       v     l      d      i         e  ...  \\\n",
            "0   1.1   1.4    1.4    1.4    1.3    1.30  1.30   1.30   1.30      1.30  ...   \n",
            "1   1.0   1.0    1.0    1.0    1.0    1.00  1.00   1.00   1.00      1.00  ...   \n",
            "2  83.0  11.0    1.0   11.0  171.0  927.89  0.04  23.04  40.27  21378.61  ...   \n",
            "3  46.0   8.0    6.0    8.0  141.0  769.78  0.07  14.86  51.81  11436.73  ...   \n",
            "4  25.0   3.0    1.0    3.0   58.0  254.75  0.11   9.35  27.25   2381.95  ...   \n",
            "\n",
            "   lOCode  lOComment  lOBlank  locCodeAndComment  uniq_Op  uniq_Opnd  \\\n",
            "0     2.0          2        2                  2      1.2        1.2   \n",
            "1     1.0          1        1                  1      1.0        1.0   \n",
            "2    65.0         10        6                  0     18.0       25.0   \n",
            "3    37.0          2        5                  0     16.0       28.0   \n",
            "4    21.0          0        2                  0     11.0       10.0   \n",
            "\n",
            "   total_Op  total_Opnd  branchCount  rating  \n",
            "0       1.2         1.2          1.4   False  \n",
            "1       1.0         1.0          1.0    True  \n",
            "2     107.0        64.0         21.0    True  \n",
            "3      89.0        52.0         15.0    True  \n",
            "4      41.0        17.0          5.0    True  \n",
            "\n",
            "[5 rows x 22 columns]\n",
            "(2109, 22)\n"
          ]
        }
      ]
    },
    {
      "cell_type": "code",
      "source": [
        "# Hill-Valley with Noise\n",
        "# تشخیص سیگنال بالا یا پایین\n",
        "\n",
        "import openml\n",
        "import pandas as pd\n",
        "\n",
        "dataset = openml.datasets.get_dataset(1046)\n",
        "data, y_data, _, _ = dataset.get_data(target=dataset.default_target_attribute)\n",
        "\n",
        "# 🔧 افزودن target به dataframe کامل (مثل خواندن فایل CSV)\n",
        "data['rating'] = y_data  # فرض می‌گیریم نام ستون هدف \"rating\" باشه برای یکسان بودن با مثال شما\n",
        "\n",
        "print(data.shape)\n",
        "# حذف سطرهای حاوی NaN\n",
        "data = data.dropna()\n",
        "\n",
        "# 🔍 نمایش اطلاعات\n",
        "print(data.columns)\n",
        "print(data.head())\n",
        "print(data.shape)\n",
        "\n",
        "# 🎯 جدا کردن ویژگی‌ها و برچسب‌ها (مطابق ساختار شما)\n",
        "X_data = data.drop('rating', axis=1)\n",
        "y_data = data['rating']\n",
        "data_features = X_data.columns\n"
      ],
      "metadata": {
        "colab": {
          "base_uri": "https://localhost:8080/"
        },
        "id": "mbjhSCJHIfeK",
        "outputId": "3efa6e8f-b3ba-4931-b448-8fe92aa1f7cf"
      },
      "execution_count": null,
      "outputs": [
        {
          "output_type": "stream",
          "name": "stdout",
          "text": [
            "(15545, 6)\n",
            "Index(['id', 'start', 'end', 'event', 'size', 'rating'], dtype='object')\n",
            "    id      start        end  event  size rating\n",
            "0  1.0        0.0   913439.0      0  14.0      0\n",
            "1  1.0   913439.0  1292405.0      1  14.0      0\n",
            "2  1.0  1292405.0  1540749.0      0  14.0      1\n",
            "3  2.0        0.0    50170.0      0  14.0      0\n",
            "4  3.0        0.0   913439.0      0  18.0      0\n",
            "(15545, 6)\n"
          ]
        }
      ]
    },
    {
      "cell_type": "code",
      "source": [
        "# Climate Model Simulation\n",
        "# شبیه‌سازی آب‌وهوا (دوتایی)\n",
        "import openml\n",
        "import pandas as pd\n",
        "\n",
        "dataset = openml.datasets.get_dataset(40966)\n",
        "data, y_data, _, _ = dataset.get_data(target=dataset.default_target_attribute)\n",
        "\n",
        "# 🔧 افزودن target به dataframe کامل (مثل خواندن فایل CSV)\n",
        "data['rating'] = y_data  # فرض می‌گیریم نام ستون هدف \"rating\" باشه برای یکسان بودن با مثال شما\n",
        "\n",
        "print(data.shape)\n",
        "# حذف سطرهای حاوی NaN\n",
        "data = data.dropna()\n",
        "\n",
        "# 🔍 نمایش اطلاعات\n",
        "print(data.columns)\n",
        "print(data.head())\n",
        "print(data.shape)\n",
        "\n",
        "# 🎯 جدا کردن ویژگی‌ها و برچسب‌ها (مطابق ساختار شما)\n",
        "X_data = data.drop('rating', axis=1)\n",
        "y_data = data['rating']\n",
        "data_features = X_data.columns\n"
      ],
      "metadata": {
        "colab": {
          "base_uri": "https://localhost:8080/"
        },
        "id": "opS0ynL6Io_C",
        "outputId": "256ec59d-b181-48d6-cab4-d592a1e566e5"
      },
      "execution_count": null,
      "outputs": [
        {
          "output_type": "stream",
          "name": "stdout",
          "text": [
            "(1080, 78)\n",
            "Index(['DYRK1A_N', 'ITSN1_N', 'BDNF_N', 'NR1_N', 'NR2A_N', 'pAKT_N', 'pBRAF_N',\n",
            "       'pCAMKII_N', 'pCREB_N', 'pELK_N', 'pERK_N', 'pJNK_N', 'PKCA_N',\n",
            "       'pMEK_N', 'pNR1_N', 'pNR2A_N', 'pNR2B_N', 'pPKCAB_N', 'pRSK_N', 'AKT_N',\n",
            "       'BRAF_N', 'CAMKII_N', 'CREB_N', 'ELK_N', 'ERK_N', 'GSK3B_N', 'JNK_N',\n",
            "       'MEK_N', 'TRKA_N', 'RSK_N', 'APP_N', 'Bcatenin_N', 'SOD1_N', 'MTOR_N',\n",
            "       'P38_N', 'pMTOR_N', 'DSCR1_N', 'AMPKA_N', 'NR2B_N', 'pNUMB_N',\n",
            "       'RAPTOR_N', 'TIAM1_N', 'pP70S6_N', 'NUMB_N', 'P70S6_N', 'pGSK3B_N',\n",
            "       'pPKCG_N', 'CDK5_N', 'S6_N', 'ADARB1_N', 'AcetylH3K9_N', 'RRP1_N',\n",
            "       'BAX_N', 'ARC_N', 'ERBB4_N', 'nNOS_N', 'Tau_N', 'GFAP_N', 'GluR3_N',\n",
            "       'GluR4_N', 'IL1B_N', 'P3525_N', 'pCASP9_N', 'PSD95_N', 'SNCA_N',\n",
            "       'Ubiquitin_N', 'pGSK3B_Tyr216_N', 'SHH_N', 'BAD_N', 'BCL2_N', 'pS6_N',\n",
            "       'pCFOS_N', 'SYP_N', 'H3AcK18_N', 'EGR1_N', 'H3MeK4_N', 'CaNA_N',\n",
            "       'rating'],\n",
            "      dtype='object')\n",
            "    DYRK1A_N   ITSN1_N    BDNF_N     NR1_N    NR2A_N    pAKT_N   pBRAF_N  \\\n",
            "75  0.649781  0.828696  0.405862  2.921435  5.167979  0.207174  0.176640   \n",
            "76  0.616481  0.841974  0.388584  2.862575  5.194163  0.223433  0.167725   \n",
            "77  0.637424  0.852882  0.400561  2.968155  5.350820  0.208790  0.173261   \n",
            "78  0.576815  0.755390  0.348346  2.624901  4.727509  0.205892  0.161192   \n",
            "79  0.542545  0.757917  0.350051  2.634509  4.735602  0.210526  0.165671   \n",
            "\n",
            "    pCAMKII_N   pCREB_N    pELK_N  ...     BAD_N    BCL2_N     pS6_N  \\\n",
            "75   3.728084  0.239283  1.666579  ...  0.139052  0.112926  0.132001   \n",
            "76   3.648240  0.221030  1.565150  ...  0.133787  0.121607  0.139008   \n",
            "77   3.814545  0.222300  1.741732  ...  0.142324  0.130261  0.134804   \n",
            "78   3.778530  0.194153  1.505475  ...  0.133637  0.107321  0.118982   \n",
            "79   3.871971  0.194297  1.531613  ...  0.133358  0.112851  0.128635   \n",
            "\n",
            "     pCFOS_N     SYP_N  H3AcK18_N    EGR1_N  H3MeK4_N    CaNA_N  rating  \n",
            "75  0.129363  0.486912   0.125152  0.146865  0.143517  1.627181  c-CS-m  \n",
            "76  0.143084  0.467833   0.112857  0.161132  0.145719  1.562096  c-CS-m  \n",
            "77  0.147673  0.462501   0.116433  0.160594  0.142879  1.571868  c-CS-m  \n",
            "78  0.121290  0.479110   0.102831  0.144238  0.141681  1.646608  c-CS-m  \n",
            "79  0.142617  0.438354   0.110614  0.155667  0.146408  1.607631  c-CS-m  \n",
            "\n",
            "[5 rows x 78 columns]\n",
            "(552, 78)\n"
          ]
        }
      ]
    },
    {
      "cell_type": "code",
      "source": [
        "# Bank Marketing\n",
        "# موفقیت کمپین بازاریابی\n",
        "\n",
        "import openml\n",
        "import pandas as pd\n",
        "\n",
        "dataset = openml.datasets.get_dataset(44)\n",
        "data, y_data, _, _ = dataset.get_data(target=dataset.default_target_attribute)\n",
        "\n",
        "# 🔧 افزودن target به dataframe کامل (مثل خواندن فایل CSV)\n",
        "data['rating'] = y_data  # فرض می‌گیریم نام ستون هدف \"rating\" باشه برای یکسان بودن با مثال شما\n",
        "\n",
        "print(data.shape)\n",
        "# حذف سطرهای حاوی NaN\n",
        "data = data.dropna()\n",
        "\n",
        "# 🔍 نمایش اطلاعات\n",
        "print(data.columns)\n",
        "print(data.head())\n",
        "print(data.shape)\n",
        "\n",
        "# 🎯 جدا کردن ویژگی‌ها و برچسب‌ها (مطابق ساختار شما)\n",
        "X_data = data.drop('rating', axis=1)\n",
        "y_data = data['rating']\n",
        "data_features = X_data.columns\n"
      ],
      "metadata": {
        "colab": {
          "base_uri": "https://localhost:8080/"
        },
        "id": "JOe2UFqRQE91",
        "outputId": "35c5d394-e6bf-4c24-942a-8b567e9fa48a"
      },
      "execution_count": null,
      "outputs": [
        {
          "output_type": "stream",
          "name": "stdout",
          "text": [
            "(4601, 58)\n",
            "Index(['word_freq_make', 'word_freq_address', 'word_freq_all', 'word_freq_3d',\n",
            "       'word_freq_our', 'word_freq_over', 'word_freq_remove',\n",
            "       'word_freq_internet', 'word_freq_order', 'word_freq_mail',\n",
            "       'word_freq_receive', 'word_freq_will', 'word_freq_people',\n",
            "       'word_freq_report', 'word_freq_addresses', 'word_freq_free',\n",
            "       'word_freq_business', 'word_freq_email', 'word_freq_you',\n",
            "       'word_freq_credit', 'word_freq_your', 'word_freq_font', 'word_freq_000',\n",
            "       'word_freq_money', 'word_freq_hp', 'word_freq_hpl', 'word_freq_george',\n",
            "       'word_freq_650', 'word_freq_lab', 'word_freq_labs', 'word_freq_telnet',\n",
            "       'word_freq_857', 'word_freq_data', 'word_freq_415', 'word_freq_85',\n",
            "       'word_freq_technology', 'word_freq_1999', 'word_freq_parts',\n",
            "       'word_freq_pm', 'word_freq_direct', 'word_freq_cs', 'word_freq_meeting',\n",
            "       'word_freq_original', 'word_freq_project', 'word_freq_re',\n",
            "       'word_freq_edu', 'word_freq_table', 'word_freq_conference',\n",
            "       'char_freq_%3B', 'char_freq_%28', 'char_freq_%5B', 'char_freq_%21',\n",
            "       'char_freq_%24', 'char_freq_%23', 'capital_run_length_average',\n",
            "       'capital_run_length_longest', 'capital_run_length_total', 'rating'],\n",
            "      dtype='object')\n",
            "   word_freq_make  word_freq_address  word_freq_all  word_freq_3d  \\\n",
            "0            0.00               0.64           0.64           0.0   \n",
            "1            0.21               0.28           0.50           0.0   \n",
            "2            0.06               0.00           0.71           0.0   \n",
            "3            0.00               0.00           0.00           0.0   \n",
            "4            0.00               0.00           0.00           0.0   \n",
            "\n",
            "   word_freq_our  word_freq_over  word_freq_remove  word_freq_internet  \\\n",
            "0           0.32            0.00              0.00                0.00   \n",
            "1           0.14            0.28              0.21                0.07   \n",
            "2           1.23            0.19              0.19                0.12   \n",
            "3           0.63            0.00              0.31                0.63   \n",
            "4           0.63            0.00              0.31                0.63   \n",
            "\n",
            "   word_freq_order  word_freq_mail  ...  char_freq_%3B  char_freq_%28  \\\n",
            "0             0.00            0.00  ...           0.00          0.000   \n",
            "1             0.00            0.94  ...           0.00          0.132   \n",
            "2             0.64            0.25  ...           0.01          0.143   \n",
            "3             0.31            0.63  ...           0.00          0.137   \n",
            "4             0.31            0.63  ...           0.00          0.135   \n",
            "\n",
            "   char_freq_%5B  char_freq_%21  char_freq_%24  char_freq_%23  \\\n",
            "0            0.0          0.778          0.000          0.000   \n",
            "1            0.0          0.372          0.180          0.048   \n",
            "2            0.0          0.276          0.184          0.010   \n",
            "3            0.0          0.137          0.000          0.000   \n",
            "4            0.0          0.135          0.000          0.000   \n",
            "\n",
            "   capital_run_length_average  capital_run_length_longest  \\\n",
            "0                       3.756                          61   \n",
            "1                       5.114                         101   \n",
            "2                       9.821                         485   \n",
            "3                       3.537                          40   \n",
            "4                       3.537                          40   \n",
            "\n",
            "   capital_run_length_total  rating  \n",
            "0                       278       1  \n",
            "1                      1028       1  \n",
            "2                      2259       1  \n",
            "3                       191       1  \n",
            "4                       191       1  \n",
            "\n",
            "[5 rows x 58 columns]\n",
            "(4601, 58)\n"
          ]
        }
      ]
    },
    {
      "cell_type": "code",
      "source": [
        "# Jannis\n",
        "#\n",
        "\n",
        "import openml\n",
        "import pandas as pd\n",
        "\n",
        "# 📥 دانلود دیتاست از OpenML با ID 151 (Breast Cancer Wisconsin)\n",
        "dataset = openml.datasets.get_dataset(43977)\n",
        "data, y_data, _, _ = dataset.get_data(target=dataset.default_target_attribute)\n",
        "\n",
        "# 🔧 افزودن target به dataframe کامل (مثل خواندن فایل CSV)\n",
        "data['rating'] = y_data  # فرض می‌گیریم نام ستون هدف \"rating\" باشه برای یکسان بودن با مثال شما\n",
        "\n",
        "# حذف سطرهای حاوی NaN\n",
        "data = data.dropna()\n",
        "\n",
        "# 🔍 نمایش اطلاعات\n",
        "print(data.columns)\n",
        "print(data.head())\n",
        "print(data.shape)\n",
        "\n",
        "# 🎯 جدا کردن ویژگی‌ها و برچسب‌ها (مطابق ساختار شما)\n",
        "X_data = data.drop('rating', axis=1)\n",
        "y_data = data['rating']\n",
        "data_features = X_data.columns\n"
      ],
      "metadata": {
        "id": "2XWBzgmWQ02E",
        "colab": {
          "base_uri": "https://localhost:8080/"
        },
        "outputId": "4670eb49-5394-49d7-a64d-d05e0becdaea"
      },
      "execution_count": 3,
      "outputs": [
        {
          "output_type": "stream",
          "name": "stdout",
          "text": [
            "Index(['V1', 'V2', 'V3', 'V4', 'V5', 'V6', 'V7', 'V8', 'V9', 'V10', 'V11',\n",
            "       'V12', 'V13', 'V14', 'V15', 'V16', 'V17', 'V18', 'V19', 'V20', 'V21',\n",
            "       'V22', 'V23', 'V24', 'V25', 'V26', 'V27', 'V28', 'V29', 'V30', 'V31',\n",
            "       'V32', 'V33', 'V34', 'V35', 'V36', 'V37', 'V38', 'V39', 'V40', 'V41',\n",
            "       'V42', 'V43', 'V44', 'V45', 'V46', 'V47', 'V48', 'V49', 'V50', 'V51',\n",
            "       'V52', 'V53', 'V54', 'rating'],\n",
            "      dtype='object')\n",
            "         V1        V2        V3        V4        V5        V6        V7  \\\n",
            "0  0.067448  0.270833  0.444444  0.903230  0.455349  0.220512  0.343834   \n",
            "1  0.078258  0.218750  0.602778  0.070734  0.332808  0.158481  0.597466   \n",
            "2  0.045457  0.304167  0.286111  0.688610  0.575015  0.247521  0.197057   \n",
            "3  0.162303  1.000000  0.168750  0.504051  0.082256  0.994265  0.162670   \n",
            "4  0.024902  0.272917  0.171875  0.092023  0.063230  0.226857  0.153687   \n",
            "\n",
            "         V8        V9       V10  ...       V46       V47       V48       V49  \\\n",
            "0  0.037924  0.439663  137.8610  ...  0.495493  0.263158  0.109403   13.8732   \n",
            "1  0.046735  0.406496  144.2190  ...  0.802006  0.438624  0.038781   77.1902   \n",
            "2  0.045576  0.477657   84.4168  ...  0.197262  0.188079  0.072549  112.3080   \n",
            "3  0.030949  0.038203  165.7810  ...  0.475711  0.323510  0.095150   45.5046   \n",
            "4  0.082091  0.469119  216.4890  ...  0.865168  0.312332  0.028638   53.3730   \n",
            "\n",
            "        V50      V51       V52       V53       V54  rating  \n",
            "0  1.032210  11.7019  10.31830  0.006655  0.156715       0  \n",
            "1  1.561340  35.7273   4.20547  0.175330  0.353736       0  \n",
            "2  0.356293  31.3044  23.02910  0.530718  0.117468       0  \n",
            "3  0.224720  53.8878  12.53860  0.105706  0.997304       0  \n",
            "4 -0.443973  61.9557  13.34820  0.437812  0.952746       0  \n",
            "\n",
            "[5 rows x 55 columns]\n",
            "(57580, 55)\n"
          ]
        }
      ]
    },
    {
      "cell_type": "code",
      "source": [],
      "metadata": {
        "id": "yHORwIJeh5pI"
      },
      "execution_count": null,
      "outputs": []
    }
  ]
}