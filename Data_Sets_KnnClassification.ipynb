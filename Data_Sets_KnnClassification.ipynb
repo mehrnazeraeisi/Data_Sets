{
  "nbformat": 4,
  "nbformat_minor": 0,
  "metadata": {
    "colab": {
      "provenance": [],
      "authorship_tag": "ABX9TyMxlmhtIIU6CdGsAQzDTyKQ",
      "include_colab_link": true
    },
    "kernelspec": {
      "name": "python3",
      "display_name": "Python 3"
    },
    "language_info": {
      "name": "python"
    }
  },
  "cells": [
    {
      "cell_type": "markdown",
      "metadata": {
        "id": "view-in-github",
        "colab_type": "text"
      },
      "source": [
        "<a href=\"https://colab.research.google.com/github/mehrnazeraeisi/Data_Sets/blob/main/Data_Sets_KnnClassification.ipynb\" target=\"_parent\"><img src=\"https://colab.research.google.com/assets/colab-badge.svg\" alt=\"Open In Colab\"/></a>"
      ]
    },
    {
      "cell_type": "code",
      "source": [
        "!pip install openml\n"
      ],
      "metadata": {
        "colab": {
          "base_uri": "https://localhost:8080/"
        },
        "id": "Ziyx6GzNB0Vc",
        "outputId": "798600f2-182e-4aa2-b47d-261d217a73d9"
      },
      "execution_count": 2,
      "outputs": [
        {
          "output_type": "stream",
          "name": "stdout",
          "text": [
            "Collecting openml\n",
            "  Downloading openml-0.15.1-py3-none-any.whl.metadata (10 kB)\n",
            "Collecting liac-arff>=2.4.0 (from openml)\n",
            "  Downloading liac-arff-2.5.0.tar.gz (13 kB)\n",
            "  Preparing metadata (setup.py) ... \u001b[?25l\u001b[?25hdone\n",
            "Collecting xmltodict (from openml)\n",
            "  Downloading xmltodict-0.14.2-py2.py3-none-any.whl.metadata (8.0 kB)\n",
            "Requirement already satisfied: requests in /usr/local/lib/python3.11/dist-packages (from openml) (2.32.3)\n",
            "Requirement already satisfied: scikit-learn>=0.18 in /usr/local/lib/python3.11/dist-packages (from openml) (1.6.1)\n",
            "Requirement already satisfied: python-dateutil in /usr/local/lib/python3.11/dist-packages (from openml) (2.9.0.post0)\n",
            "Requirement already satisfied: pandas>=1.0.0 in /usr/local/lib/python3.11/dist-packages (from openml) (2.2.2)\n",
            "Requirement already satisfied: scipy>=0.13.3 in /usr/local/lib/python3.11/dist-packages (from openml) (1.15.3)\n",
            "Requirement already satisfied: numpy>=1.6.2 in /usr/local/lib/python3.11/dist-packages (from openml) (2.0.2)\n",
            "Collecting minio (from openml)\n",
            "  Downloading minio-7.2.15-py3-none-any.whl.metadata (6.7 kB)\n",
            "Requirement already satisfied: pyarrow in /usr/local/lib/python3.11/dist-packages (from openml) (18.1.0)\n",
            "Requirement already satisfied: tqdm in /usr/local/lib/python3.11/dist-packages (from openml) (4.67.1)\n",
            "Requirement already satisfied: packaging in /usr/local/lib/python3.11/dist-packages (from openml) (24.2)\n",
            "Requirement already satisfied: pytz>=2020.1 in /usr/local/lib/python3.11/dist-packages (from pandas>=1.0.0->openml) (2025.2)\n",
            "Requirement already satisfied: tzdata>=2022.7 in /usr/local/lib/python3.11/dist-packages (from pandas>=1.0.0->openml) (2025.2)\n",
            "Requirement already satisfied: six>=1.5 in /usr/local/lib/python3.11/dist-packages (from python-dateutil->openml) (1.17.0)\n",
            "Requirement already satisfied: joblib>=1.2.0 in /usr/local/lib/python3.11/dist-packages (from scikit-learn>=0.18->openml) (1.5.0)\n",
            "Requirement already satisfied: threadpoolctl>=3.1.0 in /usr/local/lib/python3.11/dist-packages (from scikit-learn>=0.18->openml) (3.6.0)\n",
            "Requirement already satisfied: certifi in /usr/local/lib/python3.11/dist-packages (from minio->openml) (2025.4.26)\n",
            "Requirement already satisfied: urllib3 in /usr/local/lib/python3.11/dist-packages (from minio->openml) (2.4.0)\n",
            "Requirement already satisfied: argon2-cffi in /usr/local/lib/python3.11/dist-packages (from minio->openml) (23.1.0)\n",
            "Collecting pycryptodome (from minio->openml)\n",
            "  Downloading pycryptodome-3.22.0-cp37-abi3-manylinux_2_17_x86_64.manylinux2014_x86_64.whl.metadata (3.4 kB)\n",
            "Requirement already satisfied: typing-extensions in /usr/local/lib/python3.11/dist-packages (from minio->openml) (4.13.2)\n",
            "Requirement already satisfied: charset-normalizer<4,>=2 in /usr/local/lib/python3.11/dist-packages (from requests->openml) (3.4.2)\n",
            "Requirement already satisfied: idna<4,>=2.5 in /usr/local/lib/python3.11/dist-packages (from requests->openml) (3.10)\n",
            "Requirement already satisfied: argon2-cffi-bindings in /usr/local/lib/python3.11/dist-packages (from argon2-cffi->minio->openml) (21.2.0)\n",
            "Requirement already satisfied: cffi>=1.0.1 in /usr/local/lib/python3.11/dist-packages (from argon2-cffi-bindings->argon2-cffi->minio->openml) (1.17.1)\n",
            "Requirement already satisfied: pycparser in /usr/local/lib/python3.11/dist-packages (from cffi>=1.0.1->argon2-cffi-bindings->argon2-cffi->minio->openml) (2.22)\n",
            "Downloading openml-0.15.1-py3-none-any.whl (160 kB)\n",
            "\u001b[2K   \u001b[90m━━━━━━━━━━━━━━━━━━━━━━━━━━━━━━━━━━━━━━━━\u001b[0m \u001b[32m160.4/160.4 kB\u001b[0m \u001b[31m4.9 MB/s\u001b[0m eta \u001b[36m0:00:00\u001b[0m\n",
            "\u001b[?25hDownloading minio-7.2.15-py3-none-any.whl (95 kB)\n",
            "\u001b[2K   \u001b[90m━━━━━━━━━━━━━━━━━━━━━━━━━━━━━━━━━━━━━━━━\u001b[0m \u001b[32m95.1/95.1 kB\u001b[0m \u001b[31m6.0 MB/s\u001b[0m eta \u001b[36m0:00:00\u001b[0m\n",
            "\u001b[?25hDownloading xmltodict-0.14.2-py2.py3-none-any.whl (10.0 kB)\n",
            "Downloading pycryptodome-3.22.0-cp37-abi3-manylinux_2_17_x86_64.manylinux2014_x86_64.whl (2.3 MB)\n",
            "\u001b[2K   \u001b[90m━━━━━━━━━━━━━━━━━━━━━━━━━━━━━━━━━━━━━━━━\u001b[0m \u001b[32m2.3/2.3 MB\u001b[0m \u001b[31m33.6 MB/s\u001b[0m eta \u001b[36m0:00:00\u001b[0m\n",
            "\u001b[?25hBuilding wheels for collected packages: liac-arff\n",
            "  Building wheel for liac-arff (setup.py) ... \u001b[?25l\u001b[?25hdone\n",
            "  Created wheel for liac-arff: filename=liac_arff-2.5.0-py3-none-any.whl size=11717 sha256=8d1a35332393ed4df91421b37e17c8a598da8d85a8dfa113f21bcdcd73089c3e\n",
            "  Stored in directory: /root/.cache/pip/wheels/00/23/31/5e562fce1f95aabe57f2a7320d07433ba1cd152bcde2f6a002\n",
            "Successfully built liac-arff\n",
            "Installing collected packages: xmltodict, pycryptodome, liac-arff, minio, openml\n",
            "Successfully installed liac-arff-2.5.0 minio-7.2.15 openml-0.15.1 pycryptodome-3.22.0 xmltodict-0.14.2\n"
          ]
        }
      ]
    },
    {
      "cell_type": "code",
      "source": [
        "# Breast Cancer (Wisconsin)\n",
        "# تشخیص بدخیمی یا خوش‌خیمی\n",
        "\n",
        "import openml\n",
        "import pandas as pd\n",
        "\n",
        "# 📥 دانلود دیتاست از OpenML با ID 151 (Breast Cancer Wisconsin)\n",
        "dataset = openml.datasets.get_dataset(151)\n",
        "data, y_data, _, _ = dataset.get_data(target=dataset.default_target_attribute)\n",
        "\n",
        "# 🔧 افزودن target به dataframe کامل (مثل خواندن فایل CSV)\n",
        "data['rating'] = y_data  # فرض می‌گیریم نام ستون هدف \"rating\" باشه برای یکسان بودن با مثال شما\n",
        "\n",
        "# حذف سطرهای حاوی NaN\n",
        "data = data.dropna()\n",
        "\n",
        "# 🔍 نمایش اطلاعات\n",
        "print(data.columns)\n",
        "print(data.head())\n",
        "print(data.shape)\n",
        "\n",
        "# 🎯 جدا کردن ویژگی‌ها و برچسب‌ها (مطابق ساختار شما)\n",
        "X_data = data.drop('rating', axis=1)\n",
        "y_data = data['rating']\n",
        "data_features = X_data.columns\n"
      ],
      "metadata": {
        "colab": {
          "base_uri": "https://localhost:8080/"
        },
        "id": "C7f-lG9UCLRD",
        "outputId": "b7199770-3303-41ee-fd64-87a2335fe8aa"
      },
      "execution_count": 36,
      "outputs": [
        {
          "output_type": "stream",
          "name": "stdout",
          "text": [
            "Index(['date', 'day', 'period', 'nswprice', 'nswdemand', 'vicprice',\n",
            "       'vicdemand', 'transfer', 'rating'],\n",
            "      dtype='object')\n",
            "   date day    period  nswprice  nswdemand  vicprice  vicdemand  transfer  \\\n",
            "0   0.0   2  0.000000  0.056443   0.439155  0.003467   0.422915  0.414912   \n",
            "1   0.0   2  0.021277  0.051699   0.415055  0.003467   0.422915  0.414912   \n",
            "2   0.0   2  0.042553  0.051489   0.385004  0.003467   0.422915  0.414912   \n",
            "3   0.0   2  0.063830  0.045485   0.314639  0.003467   0.422915  0.414912   \n",
            "4   0.0   2  0.085106  0.042482   0.251116  0.003467   0.422915  0.414912   \n",
            "\n",
            "  rating  \n",
            "0     UP  \n",
            "1     UP  \n",
            "2     UP  \n",
            "3     UP  \n",
            "4   DOWN  \n",
            "(45312, 9)\n"
          ]
        }
      ]
    },
    {
      "cell_type": "code",
      "source": [
        "# Blood Transfusion\n",
        "# پیش‌بینی اهدای دوباره خون\n",
        "\n",
        "import openml\n",
        "import pandas as pd\n",
        "\n",
        "dataset = openml.datasets.get_dataset(1464)\n",
        "data, y_data, _, _ = dataset.get_data(target=dataset.default_target_attribute)\n",
        "print(data.shape)\n",
        "\n",
        "\n",
        "# 🔧 افزودن target به dataframe کامل (مثل خواندن فایل CSV)\n",
        "data['rating'] = y_data  # فرض می‌گیریم نام ستون هدف \"rating\" باشه برای یکسان بودن با مثال شما\n",
        "# حذف سطرهای حاوی NaN\n",
        "data = data.dropna()\n",
        "\n",
        "\n",
        "# 🔍 نمایش اطلاعات\n",
        "print(data.columns)\n",
        "print(data.head())\n",
        "print(data.shape)\n",
        "\n",
        "# 🎯 جدا کردن ویژگی‌ها و برچسب‌ها (مطابق ساختار شما)\n",
        "X_data = data.drop('rating', axis=1)\n",
        "y_data = data['rating']\n",
        "data_features = X_data.columns\n"
      ],
      "metadata": {
        "colab": {
          "base_uri": "https://localhost:8080/"
        },
        "id": "7y-fX4t4EkDi",
        "outputId": "03410746-86fb-4d4c-ff07-f0611e22004f"
      },
      "execution_count": 39,
      "outputs": [
        {
          "output_type": "stream",
          "name": "stdout",
          "text": [
            "(748, 4)\n",
            "Index(['V1', 'V2', 'V3', 'V4', 'rating'], dtype='object')\n",
            "   V1  V2       V3  V4 rating\n",
            "0   2  50  12500.0  98      2\n",
            "1   0  13   3250.0  28      2\n",
            "2   1  16   4000.0  35      2\n",
            "3   2  20   5000.0  45      2\n",
            "4   1  24   6000.0  77      1\n",
            "(748, 5)\n"
          ]
        }
      ]
    },
    {
      "cell_type": "code",
      "source": [
        "# Mfeat-Fourier\n",
        "# شناسایی اعداد بر اساس ویژگی‌های فوریه\n",
        "import openml\n",
        "import pandas as pd\n",
        "\n",
        "dataset = openml.datasets.get_dataset(923)\n",
        "data, y_data, _, _ = dataset.get_data(target=dataset.default_target_attribute)\n",
        "\n",
        "# 🔧 افزودن target به dataframe کامل (مثل خواندن فایل CSV)\n",
        "data['rating'] = y_data  # فرض می‌گیریم نام ستون هدف \"rating\" باشه برای یکسان بودن با مثال شما\n",
        "\n",
        "print(data.shape)\n",
        "# حذف سطرهای حاوی NaN\n",
        "data = data.dropna()\n",
        "\n",
        "# 🔍 نمایش اطلاعات\n",
        "print(data.columns)\n",
        "print(data.head())\n",
        "print(data.shape)\n",
        "\n",
        "# 🎯 جدا کردن ویژگی‌ها و برچسب‌ها (مطابق ساختار شما)\n",
        "X_data = data.drop('rating', axis=1)\n",
        "y_data = data['rating']\n",
        "data_features = X_data.columns\n"
      ],
      "metadata": {
        "colab": {
          "base_uri": "https://localhost:8080/"
        },
        "id": "K0zaPa2nHE5P",
        "outputId": "693f5c28-fa84-43b2-cc48-9fc8412652f0"
      },
      "execution_count": 40,
      "outputs": [
        {
          "output_type": "stream",
          "name": "stdout",
          "text": [
            "(8641, 4)\n",
            "Index(['northing', 'easting', 'resistivity', 'isns', 'rating'], dtype='object')\n",
            "   northing  easting  resistivity isns rating\n",
            "0    0.0180   0.0160        34.15    0      P\n",
            "1    0.0178   0.0252        34.81    0      P\n",
            "2    0.0176   0.0345        35.65    0      P\n",
            "3    0.0174   0.0437        36.44    0      P\n",
            "4    0.0171   0.0529        37.10    0      P\n",
            "(8641, 5)\n"
          ]
        }
      ]
    },
    {
      "cell_type": "code",
      "source": [
        "# SPECTF Heart\n",
        "# تشخیص بیماری قلبی\n",
        "\n",
        "import openml\n",
        "import pandas as pd\n",
        "\n",
        "dataset = openml.datasets.get_dataset(1471)\n",
        "data, y_data, _, _ = dataset.get_data(target=dataset.default_target_attribute)\n",
        "\n",
        "# 🔧 افزودن target به dataframe کامل (مثل خواندن فایل CSV)\n",
        "data['rating'] = y_data  # فرض می‌گیریم نام ستون هدف \"rating\" باشه برای یکسان بودن با مثال شما\n",
        "\n",
        "print(data.shape)\n",
        "# حذف سطرهای حاوی NaN\n",
        "data = data.dropna()\n",
        "\n",
        "# 🔍 نمایش اطلاعات\n",
        "print(data.columns)\n",
        "print(data.head())\n",
        "print(data.shape)\n",
        "\n",
        "# 🎯 جدا کردن ویژگی‌ها و برچسب‌ها (مطابق ساختار شما)\n",
        "X_data = data.drop('rating', axis=1)\n",
        "y_data = data['rating']\n",
        "data_features = X_data.columns\n"
      ],
      "metadata": {
        "colab": {
          "base_uri": "https://localhost:8080/"
        },
        "id": "tyqxwDHHHfN9",
        "outputId": "9f59f1bc-a154-4bc6-f9c2-ad9063184126"
      },
      "execution_count": 41,
      "outputs": [
        {
          "output_type": "stream",
          "name": "stdout",
          "text": [
            "(14980, 15)\n",
            "Index(['V1', 'V2', 'V3', 'V4', 'V5', 'V6', 'V7', 'V8', 'V9', 'V10', 'V11',\n",
            "       'V12', 'V13', 'V14', 'rating'],\n",
            "      dtype='object')\n",
            "        V1       V2       V3       V4       V5       V6       V7       V8  \\\n",
            "0  4329.23  4009.23  4289.23  4148.21  4350.26  4586.15  4096.92  4641.03   \n",
            "1  4324.62  4004.62  4293.85  4148.72  4342.05  4586.67  4097.44  4638.97   \n",
            "2  4327.69  4006.67  4295.38  4156.41  4336.92  4583.59  4096.92  4630.26   \n",
            "3  4328.72  4011.79  4296.41  4155.90  4343.59  4582.56  4097.44  4630.77   \n",
            "4  4326.15  4011.79  4292.31  4151.28  4347.69  4586.67  4095.90  4627.69   \n",
            "\n",
            "        V9      V10      V11      V12      V13      V14 rating  \n",
            "0  4222.05  4238.46  4211.28  4280.51  4635.90  4393.85      1  \n",
            "1  4210.77  4226.67  4207.69  4279.49  4632.82  4384.10      1  \n",
            "2  4207.69  4222.05  4206.67  4282.05  4628.72  4389.23      1  \n",
            "3  4217.44  4235.38  4210.77  4287.69  4632.31  4396.41      1  \n",
            "4  4210.77  4244.10  4212.82  4288.21  4632.82  4398.46      1  \n",
            "(14980, 15)\n"
          ]
        }
      ]
    },
    {
      "cell_type": "code",
      "source": [
        "# Steel Plates Faults\n",
        "# طبقه‌بندی نقص صفحات فلزی\n",
        "\n",
        "import openml\n",
        "import pandas as pd\n",
        "\n",
        "dataset = openml.datasets.get_dataset(1067)\n",
        "data, y_data, _, _ = dataset.get_data(target=dataset.default_target_attribute)\n",
        "\n",
        "# 🔧 افزودن target به dataframe کامل (مثل خواندن فایل CSV)\n",
        "data['rating'] = y_data  # فرض می‌گیریم نام ستون هدف \"rating\" باشه برای یکسان بودن با مثال شما\n",
        "\n",
        "print(data.shape)\n",
        "# حذف سطرهای حاوی NaN\n",
        "data = data.dropna()\n",
        "\n",
        "# 🔍 نمایش اطلاعات\n",
        "print(data.columns)\n",
        "print(data.head())\n",
        "print(data.shape)\n",
        "\n",
        "# 🎯 جدا کردن ویژگی‌ها و برچسب‌ها (مطابق ساختار شما)\n",
        "X_data = data.drop('rating', axis=1)\n",
        "y_data = data['rating']\n",
        "data_features = X_data.columns\n"
      ],
      "metadata": {
        "colab": {
          "base_uri": "https://localhost:8080/"
        },
        "id": "dQGiJYt-IDej",
        "outputId": "1e522f8b-bb17-4b76-efc6-f99a8c68f91e"
      },
      "execution_count": 42,
      "outputs": [
        {
          "output_type": "stream",
          "name": "stdout",
          "text": [
            "(2109, 22)\n",
            "Index(['loc', 'v(g)', 'ev(g)', 'iv(g)', 'n', 'v', 'l', 'd', 'i', 'e', 'b', 't',\n",
            "       'lOCode', 'lOComment', 'lOBlank', 'locCodeAndComment', 'uniq_Op',\n",
            "       'uniq_Opnd', 'total_Op', 'total_Opnd', 'branchCount', 'rating'],\n",
            "      dtype='object')\n",
            "    loc  v(g)  ev(g)  iv(g)      n       v     l      d      i         e  ...  \\\n",
            "0   1.1   1.4    1.4    1.4    1.3    1.30  1.30   1.30   1.30      1.30  ...   \n",
            "1   1.0   1.0    1.0    1.0    1.0    1.00  1.00   1.00   1.00      1.00  ...   \n",
            "2  83.0  11.0    1.0   11.0  171.0  927.89  0.04  23.04  40.27  21378.61  ...   \n",
            "3  46.0   8.0    6.0    8.0  141.0  769.78  0.07  14.86  51.81  11436.73  ...   \n",
            "4  25.0   3.0    1.0    3.0   58.0  254.75  0.11   9.35  27.25   2381.95  ...   \n",
            "\n",
            "   lOCode  lOComment  lOBlank  locCodeAndComment  uniq_Op  uniq_Opnd  \\\n",
            "0     2.0          2        2                  2      1.2        1.2   \n",
            "1     1.0          1        1                  1      1.0        1.0   \n",
            "2    65.0         10        6                  0     18.0       25.0   \n",
            "3    37.0          2        5                  0     16.0       28.0   \n",
            "4    21.0          0        2                  0     11.0       10.0   \n",
            "\n",
            "   total_Op  total_Opnd  branchCount  rating  \n",
            "0       1.2         1.2          1.4   False  \n",
            "1       1.0         1.0          1.0    True  \n",
            "2     107.0        64.0         21.0    True  \n",
            "3      89.0        52.0         15.0    True  \n",
            "4      41.0        17.0          5.0    True  \n",
            "\n",
            "[5 rows x 22 columns]\n",
            "(2109, 22)\n"
          ]
        }
      ]
    },
    {
      "cell_type": "code",
      "source": [
        "# Hill-Valley with Noise\n",
        "# تشخیص سیگنال بالا یا پایین\n",
        "\n",
        "import openml\n",
        "import pandas as pd\n",
        "\n",
        "dataset = openml.datasets.get_dataset(1046)\n",
        "data, y_data, _, _ = dataset.get_data(target=dataset.default_target_attribute)\n",
        "\n",
        "# 🔧 افزودن target به dataframe کامل (مثل خواندن فایل CSV)\n",
        "data['rating'] = y_data  # فرض می‌گیریم نام ستون هدف \"rating\" باشه برای یکسان بودن با مثال شما\n",
        "\n",
        "print(data.shape)\n",
        "# حذف سطرهای حاوی NaN\n",
        "data = data.dropna()\n",
        "\n",
        "# 🔍 نمایش اطلاعات\n",
        "print(data.columns)\n",
        "print(data.head())\n",
        "print(data.shape)\n",
        "\n",
        "# 🎯 جدا کردن ویژگی‌ها و برچسب‌ها (مطابق ساختار شما)\n",
        "X_data = data.drop('rating', axis=1)\n",
        "y_data = data['rating']\n",
        "data_features = X_data.columns\n"
      ],
      "metadata": {
        "colab": {
          "base_uri": "https://localhost:8080/"
        },
        "id": "mbjhSCJHIfeK",
        "outputId": "3efa6e8f-b3ba-4931-b448-8fe92aa1f7cf"
      },
      "execution_count": 43,
      "outputs": [
        {
          "output_type": "stream",
          "name": "stdout",
          "text": [
            "(15545, 6)\n",
            "Index(['id', 'start', 'end', 'event', 'size', 'rating'], dtype='object')\n",
            "    id      start        end  event  size rating\n",
            "0  1.0        0.0   913439.0      0  14.0      0\n",
            "1  1.0   913439.0  1292405.0      1  14.0      0\n",
            "2  1.0  1292405.0  1540749.0      0  14.0      1\n",
            "3  2.0        0.0    50170.0      0  14.0      0\n",
            "4  3.0        0.0   913439.0      0  18.0      0\n",
            "(15545, 6)\n"
          ]
        }
      ]
    },
    {
      "cell_type": "code",
      "source": [
        "# Climate Model Simulation\n",
        "# شبیه‌سازی آب‌وهوا (دوتایی)\n",
        "import openml\n",
        "import pandas as pd\n",
        "\n",
        "dataset = openml.datasets.get_dataset(40966)\n",
        "data, y_data, _, _ = dataset.get_data(target=dataset.default_target_attribute)\n",
        "\n",
        "# 🔧 افزودن target به dataframe کامل (مثل خواندن فایل CSV)\n",
        "data['rating'] = y_data  # فرض می‌گیریم نام ستون هدف \"rating\" باشه برای یکسان بودن با مثال شما\n",
        "\n",
        "print(data.shape)\n",
        "# حذف سطرهای حاوی NaN\n",
        "data = data.dropna()\n",
        "\n",
        "# 🔍 نمایش اطلاعات\n",
        "print(data.columns)\n",
        "print(data.head())\n",
        "print(data.shape)\n",
        "\n",
        "# 🎯 جدا کردن ویژگی‌ها و برچسب‌ها (مطابق ساختار شما)\n",
        "X_data = data.drop('rating', axis=1)\n",
        "y_data = data['rating']\n",
        "data_features = X_data.columns\n"
      ],
      "metadata": {
        "colab": {
          "base_uri": "https://localhost:8080/"
        },
        "id": "opS0ynL6Io_C",
        "outputId": "256ec59d-b181-48d6-cab4-d592a1e566e5"
      },
      "execution_count": 44,
      "outputs": [
        {
          "output_type": "stream",
          "name": "stdout",
          "text": [
            "(1080, 78)\n",
            "Index(['DYRK1A_N', 'ITSN1_N', 'BDNF_N', 'NR1_N', 'NR2A_N', 'pAKT_N', 'pBRAF_N',\n",
            "       'pCAMKII_N', 'pCREB_N', 'pELK_N', 'pERK_N', 'pJNK_N', 'PKCA_N',\n",
            "       'pMEK_N', 'pNR1_N', 'pNR2A_N', 'pNR2B_N', 'pPKCAB_N', 'pRSK_N', 'AKT_N',\n",
            "       'BRAF_N', 'CAMKII_N', 'CREB_N', 'ELK_N', 'ERK_N', 'GSK3B_N', 'JNK_N',\n",
            "       'MEK_N', 'TRKA_N', 'RSK_N', 'APP_N', 'Bcatenin_N', 'SOD1_N', 'MTOR_N',\n",
            "       'P38_N', 'pMTOR_N', 'DSCR1_N', 'AMPKA_N', 'NR2B_N', 'pNUMB_N',\n",
            "       'RAPTOR_N', 'TIAM1_N', 'pP70S6_N', 'NUMB_N', 'P70S6_N', 'pGSK3B_N',\n",
            "       'pPKCG_N', 'CDK5_N', 'S6_N', 'ADARB1_N', 'AcetylH3K9_N', 'RRP1_N',\n",
            "       'BAX_N', 'ARC_N', 'ERBB4_N', 'nNOS_N', 'Tau_N', 'GFAP_N', 'GluR3_N',\n",
            "       'GluR4_N', 'IL1B_N', 'P3525_N', 'pCASP9_N', 'PSD95_N', 'SNCA_N',\n",
            "       'Ubiquitin_N', 'pGSK3B_Tyr216_N', 'SHH_N', 'BAD_N', 'BCL2_N', 'pS6_N',\n",
            "       'pCFOS_N', 'SYP_N', 'H3AcK18_N', 'EGR1_N', 'H3MeK4_N', 'CaNA_N',\n",
            "       'rating'],\n",
            "      dtype='object')\n",
            "    DYRK1A_N   ITSN1_N    BDNF_N     NR1_N    NR2A_N    pAKT_N   pBRAF_N  \\\n",
            "75  0.649781  0.828696  0.405862  2.921435  5.167979  0.207174  0.176640   \n",
            "76  0.616481  0.841974  0.388584  2.862575  5.194163  0.223433  0.167725   \n",
            "77  0.637424  0.852882  0.400561  2.968155  5.350820  0.208790  0.173261   \n",
            "78  0.576815  0.755390  0.348346  2.624901  4.727509  0.205892  0.161192   \n",
            "79  0.542545  0.757917  0.350051  2.634509  4.735602  0.210526  0.165671   \n",
            "\n",
            "    pCAMKII_N   pCREB_N    pELK_N  ...     BAD_N    BCL2_N     pS6_N  \\\n",
            "75   3.728084  0.239283  1.666579  ...  0.139052  0.112926  0.132001   \n",
            "76   3.648240  0.221030  1.565150  ...  0.133787  0.121607  0.139008   \n",
            "77   3.814545  0.222300  1.741732  ...  0.142324  0.130261  0.134804   \n",
            "78   3.778530  0.194153  1.505475  ...  0.133637  0.107321  0.118982   \n",
            "79   3.871971  0.194297  1.531613  ...  0.133358  0.112851  0.128635   \n",
            "\n",
            "     pCFOS_N     SYP_N  H3AcK18_N    EGR1_N  H3MeK4_N    CaNA_N  rating  \n",
            "75  0.129363  0.486912   0.125152  0.146865  0.143517  1.627181  c-CS-m  \n",
            "76  0.143084  0.467833   0.112857  0.161132  0.145719  1.562096  c-CS-m  \n",
            "77  0.147673  0.462501   0.116433  0.160594  0.142879  1.571868  c-CS-m  \n",
            "78  0.121290  0.479110   0.102831  0.144238  0.141681  1.646608  c-CS-m  \n",
            "79  0.142617  0.438354   0.110614  0.155667  0.146408  1.607631  c-CS-m  \n",
            "\n",
            "[5 rows x 78 columns]\n",
            "(552, 78)\n"
          ]
        }
      ]
    },
    {
      "cell_type": "code",
      "source": [
        "# Bank Marketing\n",
        "# موفقیت کمپین بازاریابی\n",
        "\n",
        "import openml\n",
        "import pandas as pd\n",
        "\n",
        "dataset = openml.datasets.get_dataset(44)\n",
        "data, y_data, _, _ = dataset.get_data(target=dataset.default_target_attribute)\n",
        "\n",
        "# 🔧 افزودن target به dataframe کامل (مثل خواندن فایل CSV)\n",
        "data['rating'] = y_data  # فرض می‌گیریم نام ستون هدف \"rating\" باشه برای یکسان بودن با مثال شما\n",
        "\n",
        "print(data.shape)\n",
        "# حذف سطرهای حاوی NaN\n",
        "data = data.dropna()\n",
        "\n",
        "# 🔍 نمایش اطلاعات\n",
        "print(data.columns)\n",
        "print(data.head())\n",
        "print(data.shape)\n",
        "\n",
        "# 🎯 جدا کردن ویژگی‌ها و برچسب‌ها (مطابق ساختار شما)\n",
        "X_data = data.drop('rating', axis=1)\n",
        "y_data = data['rating']\n",
        "data_features = X_data.columns\n"
      ],
      "metadata": {
        "colab": {
          "base_uri": "https://localhost:8080/"
        },
        "id": "JOe2UFqRQE91",
        "outputId": "35c5d394-e6bf-4c24-942a-8b567e9fa48a"
      },
      "execution_count": 45,
      "outputs": [
        {
          "output_type": "stream",
          "name": "stdout",
          "text": [
            "(4601, 58)\n",
            "Index(['word_freq_make', 'word_freq_address', 'word_freq_all', 'word_freq_3d',\n",
            "       'word_freq_our', 'word_freq_over', 'word_freq_remove',\n",
            "       'word_freq_internet', 'word_freq_order', 'word_freq_mail',\n",
            "       'word_freq_receive', 'word_freq_will', 'word_freq_people',\n",
            "       'word_freq_report', 'word_freq_addresses', 'word_freq_free',\n",
            "       'word_freq_business', 'word_freq_email', 'word_freq_you',\n",
            "       'word_freq_credit', 'word_freq_your', 'word_freq_font', 'word_freq_000',\n",
            "       'word_freq_money', 'word_freq_hp', 'word_freq_hpl', 'word_freq_george',\n",
            "       'word_freq_650', 'word_freq_lab', 'word_freq_labs', 'word_freq_telnet',\n",
            "       'word_freq_857', 'word_freq_data', 'word_freq_415', 'word_freq_85',\n",
            "       'word_freq_technology', 'word_freq_1999', 'word_freq_parts',\n",
            "       'word_freq_pm', 'word_freq_direct', 'word_freq_cs', 'word_freq_meeting',\n",
            "       'word_freq_original', 'word_freq_project', 'word_freq_re',\n",
            "       'word_freq_edu', 'word_freq_table', 'word_freq_conference',\n",
            "       'char_freq_%3B', 'char_freq_%28', 'char_freq_%5B', 'char_freq_%21',\n",
            "       'char_freq_%24', 'char_freq_%23', 'capital_run_length_average',\n",
            "       'capital_run_length_longest', 'capital_run_length_total', 'rating'],\n",
            "      dtype='object')\n",
            "   word_freq_make  word_freq_address  word_freq_all  word_freq_3d  \\\n",
            "0            0.00               0.64           0.64           0.0   \n",
            "1            0.21               0.28           0.50           0.0   \n",
            "2            0.06               0.00           0.71           0.0   \n",
            "3            0.00               0.00           0.00           0.0   \n",
            "4            0.00               0.00           0.00           0.0   \n",
            "\n",
            "   word_freq_our  word_freq_over  word_freq_remove  word_freq_internet  \\\n",
            "0           0.32            0.00              0.00                0.00   \n",
            "1           0.14            0.28              0.21                0.07   \n",
            "2           1.23            0.19              0.19                0.12   \n",
            "3           0.63            0.00              0.31                0.63   \n",
            "4           0.63            0.00              0.31                0.63   \n",
            "\n",
            "   word_freq_order  word_freq_mail  ...  char_freq_%3B  char_freq_%28  \\\n",
            "0             0.00            0.00  ...           0.00          0.000   \n",
            "1             0.00            0.94  ...           0.00          0.132   \n",
            "2             0.64            0.25  ...           0.01          0.143   \n",
            "3             0.31            0.63  ...           0.00          0.137   \n",
            "4             0.31            0.63  ...           0.00          0.135   \n",
            "\n",
            "   char_freq_%5B  char_freq_%21  char_freq_%24  char_freq_%23  \\\n",
            "0            0.0          0.778          0.000          0.000   \n",
            "1            0.0          0.372          0.180          0.048   \n",
            "2            0.0          0.276          0.184          0.010   \n",
            "3            0.0          0.137          0.000          0.000   \n",
            "4            0.0          0.135          0.000          0.000   \n",
            "\n",
            "   capital_run_length_average  capital_run_length_longest  \\\n",
            "0                       3.756                          61   \n",
            "1                       5.114                         101   \n",
            "2                       9.821                         485   \n",
            "3                       3.537                          40   \n",
            "4                       3.537                          40   \n",
            "\n",
            "   capital_run_length_total  rating  \n",
            "0                       278       1  \n",
            "1                      1028       1  \n",
            "2                      2259       1  \n",
            "3                       191       1  \n",
            "4                       191       1  \n",
            "\n",
            "[5 rows x 58 columns]\n",
            "(4601, 58)\n"
          ]
        }
      ]
    },
    {
      "cell_type": "code",
      "source": [],
      "metadata": {
        "id": "2XWBzgmWQ02E"
      },
      "execution_count": null,
      "outputs": []
    }
  ]
}